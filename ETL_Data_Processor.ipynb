{
  "nbformat": 4,
  "nbformat_minor": 0,
  "metadata": {
    "colab": {
      "provenance": [],
      "authorship_tag": "ABX9TyNiHlmu2s+WItkwgCfUti4k",
      "include_colab_link": true
    },
    "kernelspec": {
      "name": "python3",
      "display_name": "Python 3"
    },
    "language_info": {
      "name": "python"
    }
  },
  "cells": [
    {
      "cell_type": "markdown",
      "metadata": {
        "id": "view-in-github",
        "colab_type": "text"
      },
      "source": [
        "<a href=\"https://colab.research.google.com/github/RainaVardhan/ETL_Data_Processor/blob/main/ETL_Data_Processor.ipynb\" target=\"_parent\"><img src=\"https://colab.research.google.com/assets/colab-badge.svg\" alt=\"Open In Colab\"/></a>"
      ]
    },
    {
      "cell_type": "code",
      "source": [
        "! git clone https://github.com/RainaVardhan/ETL_Data_Processor.git"
      ],
      "metadata": {
        "colab": {
          "base_uri": "https://localhost:8080/"
        },
        "id": "8Ys04ZbcC-OE",
        "outputId": "bd82eb39-7c6e-416f-c64f-57fae967e77d"
      },
      "execution_count": 235,
      "outputs": [
        {
          "output_type": "stream",
          "name": "stdout",
          "text": [
            "fatal: destination path 'ETL_Data_Processor' already exists and is not an empty directory.\n"
          ]
        }
      ]
    },
    {
      "cell_type": "code",
      "source": [
        "! python -m pip install pymongo"
      ],
      "metadata": {
        "colab": {
          "base_uri": "https://localhost:8080/"
        },
        "id": "ksDYUQJ4mbQc",
        "outputId": "68ccfbb7-90c5-401a-e8a4-09a0cf9a174f"
      },
      "execution_count": 236,
      "outputs": [
        {
          "output_type": "stream",
          "name": "stdout",
          "text": [
            "Requirement already satisfied: pymongo in /usr/local/lib/python3.10/dist-packages (4.6.3)\n",
            "Requirement already satisfied: dnspython<3.0.0,>=1.16.0 in /usr/local/lib/python3.10/dist-packages (from pymongo) (2.6.1)\n"
          ]
        }
      ]
    },
    {
      "cell_type": "code",
      "execution_count": 237,
      "metadata": {
        "id": "SAMnyfs8__lr"
      },
      "outputs": [],
      "source": [
        "import numpy as np\n",
        "import pandas as pd\n",
        "import sqlite3"
      ]
    },
    {
      "cell_type": "code",
      "source": [
        "# Connecting to the SQLite Database\n",
        "conn = sqlite3.connect('movies_and_shows.db')\n",
        "\n",
        "# Creating the Movies table\n",
        "conn.execute('''CREATE TABLE IF NOT EXISTS Movies (\n",
        "                id INTEGER PRIMARY KEY UNIQUE,\n",
        "                title TEXT,\n",
        "                description TEXT,\n",
        "                genre TEXT,\n",
        "                release_year INTEGER,\n",
        "                cast TEXT,\n",
        "                duration TEXT\n",
        "            )''')\n",
        "\n",
        "#Creating the Shows table\n",
        "conn.execute('''CREATE TABLE IF NOT EXISTS Shows (\n",
        "                id INTEGER PRIMARY KEY UNIQUE,\n",
        "                title TEXT,\n",
        "                description TEXT,\n",
        "                genre TEXT,\n",
        "                release_year INTEGER,\n",
        "                cast TEXT,\n",
        "                seasons TEXT\n",
        "            )''')\n",
        "\n",
        "#Creating the MovieRatings table\n",
        "conn.execute('''CREATE TABLE IF NOT EXISTS MovieRatings (\n",
        "                id INTEGER PRIMARY KEY,\n",
        "                movie_id INTEGER,\n",
        "                title TEXT,\n",
        "                imdb_id TEXT,\n",
        "                imdb_rating REAL,\n",
        "                imdb_votes INTEGER,\n",
        "                FOREIGN KEY (movie_id) REFERENCES Movies(id)\n",
        "              )''')\n",
        "\n",
        "#Creating the ShowRatings table\n",
        "conn.execute('''CREATE TABLE IF NOT EXISTS ShowRatings (\n",
        "                id INTEGER PRIMARY KEY,\n",
        "                show_id INTEGER,\n",
        "                title TEXT,\n",
        "                imdb_id TEXT,\n",
        "                imdb_rating REAL,\n",
        "                imdb_votes INTEGER,\n",
        "                FOREIGN KEY (show_id) REFERENCES Shows(id)\n",
        "              )''')\n",
        "\n",
        "#Creating the MovieGenres table\n",
        "conn.execute('''CREATE TABLE IF NOT EXISTS MovieGenres (\n",
        "                id INTEGER PRIMARY KEY,\n",
        "                genre TEXT,\n",
        "                movie_id INTEGER,\n",
        "                movie_title TEXT,\n",
        "                FOREIGN KEY (movie_id) REFERENCES Movies(id)\n",
        "            )''')\n",
        "\n",
        "#Committing changes to the Database\n",
        "conn.commit()\n",
        "\n",
        "#Closing the connection to the Database\n",
        "conn.close()"
      ],
      "metadata": {
        "id": "YdMmJe3iW-Ka"
      },
      "execution_count": 238,
      "outputs": []
    },
    {
      "cell_type": "code",
      "source": [
        "#Loading CSV file into pandas DataFrames\n",
        "netflix = pd.read_csv('/content/netflix_titles.csv')\n",
        "\n",
        "#Filters the DataFrame so that it only looks at the TV shows\n",
        "shows = netflix[netflix['type'] == 'TV Show']\n",
        "\n",
        "#Limits the data to only the first 10 rows\n",
        "shows = shows.head(10)\n",
        "print(shows)\n",
        "\n",
        "#Connecting to the SQLite database\n",
        "conn = sqlite3.connect('movies_and_shows.db')\n",
        "\n",
        "#Creating a cursor to execute SQL commands\n",
        "cursor = conn.cursor()\n",
        "\n",
        "#Looping through the each row in the DataFrame to insert data into the Shows table in the Database\n",
        "for index,row in shows.iterrows():\n",
        "    cursor.execute('''INSERT INTO Shows (title, description, genre, release_year, cast, seasons)\n",
        "                      VALUES (?, ?, ?, ?, ?, ?)''', (\n",
        "                        row['title'],\n",
        "                        row['description'],\n",
        "                        row['listed_in'],\n",
        "                        row['release_year'],\n",
        "                        row['cast'],\n",
        "                        row['duration']\n",
        "                  ))\n",
        "\n",
        "#Committing changes to the Database\n",
        "conn.commit()\n",
        "\n",
        "#Closing the connection to the Database\n",
        "conn.close()"
      ],
      "metadata": {
        "colab": {
          "base_uri": "https://localhost:8080/"
        },
        "id": "BVcsd8FiIZVQ",
        "outputId": "0b25de19-5136-4950-f595-4d0e477eb3ea"
      },
      "execution_count": 239,
      "outputs": [
        {
          "output_type": "stream",
          "name": "stdout",
          "text": [
            "   show_id     type                                title           director  \\\n",
            "1       s2  TV Show                        Blood & Water                NaN   \n",
            "2       s3  TV Show                            Ganglands    Julien Leclercq   \n",
            "3       s4  TV Show                Jailbirds New Orleans                NaN   \n",
            "4       s5  TV Show                         Kota Factory                NaN   \n",
            "5       s6  TV Show                        Midnight Mass      Mike Flanagan   \n",
            "8       s9  TV Show        The Great British Baking Show    Andy Devonshire   \n",
            "10     s11  TV Show  Vendetta: Truth, Lies and The Mafia                NaN   \n",
            "11     s12  TV Show                     Bangkok Breaking  Kongkiat Komesiri   \n",
            "14     s15  TV Show      Crime Stories: India Detectives                NaN   \n",
            "15     s16  TV Show                    Dear White People                NaN   \n",
            "\n",
            "                                                 cast         country  \\\n",
            "1   Ama Qamata, Khosi Ngema, Gail Mabalane, Thaban...    South Africa   \n",
            "2   Sami Bouajila, Tracy Gotoas, Samuel Jouy, Nabi...             NaN   \n",
            "3                                                 NaN             NaN   \n",
            "4   Mayur More, Jitendra Kumar, Ranjan Raj, Alam K...           India   \n",
            "5   Kate Siegel, Zach Gilford, Hamish Linklater, H...             NaN   \n",
            "8   Mel Giedroyc, Sue Perkins, Mary Berry, Paul Ho...  United Kingdom   \n",
            "10                                                NaN             NaN   \n",
            "11  Sukollawat Kanarot, Sushar Manaying, Pavarit M...             NaN   \n",
            "14                                                NaN             NaN   \n",
            "15  Logan Browning, Brandon P. Bell, DeRon Horton,...   United States   \n",
            "\n",
            "            date_added  release_year rating   duration  \\\n",
            "1   September 24, 2021          2021  TV-MA  2 Seasons   \n",
            "2   September 24, 2021          2021  TV-MA   1 Season   \n",
            "3   September 24, 2021          2021  TV-MA   1 Season   \n",
            "4   September 24, 2021          2021  TV-MA  2 Seasons   \n",
            "5   September 24, 2021          2021  TV-MA   1 Season   \n",
            "8   September 24, 2021          2021  TV-14  9 Seasons   \n",
            "10  September 24, 2021          2021  TV-MA   1 Season   \n",
            "11  September 23, 2021          2021  TV-MA   1 Season   \n",
            "14  September 22, 2021          2021  TV-MA   1 Season   \n",
            "15  September 22, 2021          2021  TV-MA  4 Seasons   \n",
            "\n",
            "                                            listed_in  \\\n",
            "1     International TV Shows, TV Dramas, TV Mysteries   \n",
            "2   Crime TV Shows, International TV Shows, TV Act...   \n",
            "3                              Docuseries, Reality TV   \n",
            "4   International TV Shows, Romantic TV Shows, TV ...   \n",
            "5                  TV Dramas, TV Horror, TV Mysteries   \n",
            "8                        British TV Shows, Reality TV   \n",
            "10  Crime TV Shows, Docuseries, International TV S...   \n",
            "11  Crime TV Shows, International TV Shows, TV Act...   \n",
            "14       British TV Shows, Crime TV Shows, Docuseries   \n",
            "15                             TV Comedies, TV Dramas   \n",
            "\n",
            "                                          description  \n",
            "1   After crossing paths at a party, a Cape Town t...  \n",
            "2   To protect his family from a powerful drug lor...  \n",
            "3   Feuds, flirtations and toilet talk go down amo...  \n",
            "4   In a city of coaching centers known to train I...  \n",
            "5   The arrival of a charismatic young priest brin...  \n",
            "8   A talented batch of amateur bakers face off in...  \n",
            "10  Sicily boasts a bold \"Anti-Mafia\" coalition. B...  \n",
            "11  Struggling to earn a living in Bangkok, a man ...  \n",
            "14  Cameras following Bengaluru police on the job ...  \n",
            "15  Students of color navigate the daily slights a...  \n"
          ]
        }
      ]
    },
    {
      "cell_type": "code",
      "source": [
        "#Connecting to the SQLite Database\n",
        "conn = sqlite3.connect('movies_and_shows.db')\n",
        "\n",
        "#Querrying the data from the Shows table to convert it to a DataFrame (asked chat how to do this)\n",
        "query = f\"SELECT * FROM Shows\"\n",
        "data = pd.read_sql_query(query, conn)\n",
        "\n",
        "#Closing the connection to the Database\n",
        "conn.close()\n",
        "\n",
        "#Exporting the DataFrame to a CSV file\n",
        "data.to_csv('shows_table.csv', index=False)"
      ],
      "metadata": {
        "id": "--wcUaH6iP9N"
      },
      "execution_count": 240,
      "outputs": []
    },
    {
      "cell_type": "code",
      "source": [
        "import os\n",
        "import datetime\n",
        "import json\n",
        "import pymongo\n",
        "import pprint\n",
        "\n",
        "#Connecting the MongoDB with these parameters\n",
        "host_name = \"localhost\"\n",
        "port = \"27017\"\n",
        "\n",
        "atlas_cluster_name = \"cluster0.xuibg2h\"\n",
        "atlas_default_dbname = \"sakila\"\n",
        "atlas_user_name = \"ds2002sp23\"\n",
        "atlas_password = \"uva1819\"\n",
        "\n",
        "#Creating a MongoDB client using the Atlas connection string\n",
        "conn_str = {\n",
        "    \"atlas\" : f\"mongodb+srv://{atlas_user_name}:{atlas_password}@{atlas_cluster_name}.mongodb.net/{atlas_default_dbname}\"\n",
        "}\n",
        "\n",
        "client = pymongo.MongoClient(conn_str[\"atlas\"])\n",
        "\n",
        "#Accessing the sample_mflix database and its movies collection\n",
        "db_name = \"sample_mflix\"\n",
        "db = client[db_name]\n",
        "db.list_collection_names()\n",
        "collection = db['movies']\n",
        "\n",
        "#Finding all the entries in the movies collection and turning it into a list\n",
        "data = collection.find()\n",
        "data_list = list(data)\n",
        "\n",
        "#Limits the list to only take the first 10 entries\n",
        "data_list = data_list[:10]\n",
        "print(data_list)"
      ],
      "metadata": {
        "id": "BbYARwNbewMm",
        "colab": {
          "base_uri": "https://localhost:8080/"
        },
        "outputId": "2bd4cca3-fd0b-41dc-9d5c-888218af42d9"
      },
      "execution_count": 241,
      "outputs": [
        {
          "output_type": "stream",
          "name": "stdout",
          "text": [
            "[{'_id': ObjectId('573a1390f29313caabcd5ea4'), 'plot': \"A District Attorney's outspoken stand on abortion gets him in trouble with the local community.\", 'genres': ['Drama'], 'runtime': 62, 'rated': 'APPROVED', 'cast': ['Tyrone Power Sr.', 'Helen Riaume', 'Marie Walcamp', 'Cora Drew'], 'title': 'Where Are My Children?', 'fullplot': 'While prosecuting a physician for the death of a client after an abortion, the district attorney discovers that his wife helped her society friends and the daughter of her maid obtain and pay for abortions from the physician (and was perhaps herself also a client.)', 'languages': ['English'], 'released': datetime.datetime(1916, 5, 1, 0, 0), 'directors': ['Phillips Smalley', 'Lois Weber'], 'writers': ['Lucy Payton (from the story by)', 'Franklin Hall (from the story by)', 'Lois Weber', 'Phillips Smalley'], 'awards': {'wins': 1, 'nominations': 0, 'text': '1 win.'}, 'lastupdated': '2015-09-07 00:51:32.560000000', 'year': 1916, 'imdb': {'rating': 5.9, 'votes': 247, 'id': 7558}, 'countries': ['USA'], 'type': 'movie', 'tomatoes': {'viewer': {'rating': 3.1, 'numReviews': 34, 'meter': 50}, 'production': 'MCA/Universal Pictures', 'lastUpdated': datetime.datetime(2015, 8, 6, 19, 49, 17)}, 'num_mflix_comments': 0}, {'_id': ObjectId('573a1391f29313caabcd73f4'), 'plot': \"A series of mishaps manages to make a young man get chased by a big city's entire police force.\", 'genres': ['Short', 'Comedy', 'Family'], 'runtime': 22, 'rated': 'UNRATED', 'cast': ['Buster Keaton'], 'num_mflix_comments': 0, 'title': 'Cops', 'fullplot': \"Through a series of mistaken identities Buster winds up with a load of furniture in the middle of parade of policemen. An anarchist's bomb lands in his carriage. After lighting his cigarette with it, he tosses it into the ranks of police. When it explodes the police chase him all over town.\", 'languages': ['English'], 'released': datetime.datetime(1922, 3, 1, 0, 0), 'directors': ['Edward F. Cline', 'Buster Keaton'], 'writers': ['Buster Keaton', 'Edward F. Cline'], 'awards': {'wins': 1, 'nominations': 0, 'text': '1 win.'}, 'lastupdated': '2015-09-16 06:21:19.243000000', 'year': 1922, 'imdb': {'rating': 7.8, 'votes': 3738, 'id': 13025}, 'countries': ['USA'], 'type': 'movie', 'tomatoes': {'viewer': {'rating': 4.0, 'numReviews': 498, 'meter': 88}, 'production': 'Joseph M. Schenck Productions', 'lastUpdated': datetime.datetime(2015, 9, 15, 18, 6, 57)}}, {'_id': ObjectId('573a1391f29313caabcd7da6'), 'plot': \"Millie Stope lives with her grandfather on a remote island. Her grandfather fled there for political reasons. But they're not alone. An escaped prisoner, Nicholas, is terrorizing them, and ...\", 'genres': ['Drama', 'Romance'], 'runtime': 88, 'rated': 'PASSED', 'cast': ['Frank Mayo', 'Virginia Valli', 'Ford Sterling', 'Nigel De Brulier'], 'num_mflix_comments': 1, 'poster': 'https://m.media-amazon.com/images/M/MV5BMjA4OTYwMTcwM15BMl5BanBnXkFtZTcwNDEyNTkzMQ@@._V1_SY1000_SX677_AL_.jpg', 'title': 'Wild Oranges', 'fullplot': \"Millie Stope lives with her grandfather on a remote island. Her grandfather fled there for political reasons. But they're not alone. An escaped prisoner, Nicholas, is terrorizing them, and further more, he's interested in Mllie. John Woolfolk has lost his wife in an accident and tries to forget by sailing in his yacht aimlessly on the ocean. By chance he drops anchor in a bay of that island. He soon finds out that something is wrong on that island, and furthermore, he falls in love with Millie, who sees in him a chance to get off that island. But Nicholas has threatened her with rape and murder if she tries to escape, and he has found out about her plans...\", 'languages': ['English'], 'released': datetime.datetime(1924, 1, 20, 0, 0), 'directors': ['King Vidor'], 'writers': ['Joseph Hergesheimer (by)', 'King Vidor (adapted by)', 'Tom Miranda (titles)'], 'awards': {'wins': 1, 'nominations': 0, 'text': '1 win.'}, 'lastupdated': '2015-08-13 00:31:55.567000000', 'year': 1924, 'imdb': {'rating': 7.1, 'votes': 327, 'id': 15498}, 'countries': ['USA'], 'type': 'movie', 'tomatoes': {'viewer': {'rating': 4.2, 'numReviews': 1519, 'meter': 91}, 'dvd': datetime.datetime(2002, 12, 3, 0, 0), 'critic': {'rating': 8.0, 'numReviews': 13, 'meter': 100}, 'lastUpdated': datetime.datetime(2015, 9, 13, 17, 59, 52), 'rotten': 0, 'fresh': 13}}, {'_id': ObjectId('573a1391f29313caabcd7616'), 'plot': 'Salome, the daughter of Herodias, seduces her step-father/uncle Herod, governor of Judea, with a salacious dance. In return, he promises her the head of the prophet John the Baptist.', 'genres': ['Biography', 'Drama', 'History'], 'runtime': 72, 'cast': ['Mitchell Lewis', 'Alla Nazimova', 'Rose Dione', 'Earl Schenck'], 'num_mflix_comments': 0, 'poster': 'https://m.media-amazon.com/images/M/MV5BMjA0MTY4MzI2OV5BMl5BanBnXkFtZTgwNTMyODg5MTE@._V1_SY1000_SX677_AL_.jpg', 'title': 'Salomè', 'fullplot': 'Salome, the daughter of Herodias, seduces her step-father/uncle Herod, governor of Judea, with a salacious dance. In return, he promises her the head of the prophet John the Baptist.', 'countries': ['USA'], 'released': datetime.datetime(1923, 2, 15, 0, 0), 'directors': ['Charles Bryant', 'Alla Nazimova'], 'writers': ['Oscar Wilde (play)', 'Natacha Rambova (scenario)'], 'awards': {'wins': 1, 'nominations': 0, 'text': '1 win.'}, 'lastupdated': '2015-04-26 00:03:19.913000000', 'year': 1922, 'imdb': {'rating': 6.6, 'votes': 466, 'id': 13571}, 'type': 'movie', 'tomatoes': {'viewer': {'rating': 3.9, 'numReviews': 310, 'meter': 70}, 'fresh': 3, 'critic': {'rating': 6.5, 'numReviews': 5, 'meter': 60}, 'rotten': 2, 'lastUpdated': datetime.datetime(2015, 6, 13, 19, 0, 41)}}, {'_id': ObjectId('573a1392f29313caabcdabdd'), 'plot': 'When a hard-working machinist loses a promotion to a Polish-born worker, he is seduced into joining the secretive Black Legion, which intimidates foreigners through violence.', 'genres': ['Crime', 'Drama', 'Film-Noir'], 'runtime': 83, 'rated': 'APPROVED', 'cast': ['Humphrey Bogart', 'Dick Foran', \"Erin O'Brien-Moore\", 'Ann Sheridan'], 'num_mflix_comments': 1, 'poster': 'https://m.media-amazon.com/images/M/MV5BZmU5MGQ2M2MtYmRlMy00MDY1LWFiZWQtYTdjOWMxYzdjMWEzXkEyXkFqcGdeQXVyMjUxODE0MDY@._V1_SY1000_SX677_AL_.jpg', 'title': 'Black Legion', 'fullplot': 'Frank Taylor joins the \"pro-American\" Black Legion when he loses his chance at foremanship to a foreign-born man. The organization is a sort of Ku Klux Klan in the industrial sphere. Frank has troubles with his wife over this and causes serious trouble when he tells all to his best friend Ed Jackson.', 'languages': ['English'], 'released': datetime.datetime(1937, 1, 30, 0, 0), 'directors': ['Archie Mayo', 'Michael Curtiz'], 'writers': ['Abem Finkel (screen play)', 'William Wister Haines (screen play)', 'Robert Lord (story)'], 'awards': {'wins': 2, 'nominations': 0, 'text': 'Nominated for 1 Oscar. Another 1 win.'}, 'lastupdated': '2015-09-17 04:39:07.407000000', 'year': 1937, 'imdb': {'rating': 7.0, 'votes': 1700, 'id': 27367}, 'countries': ['USA'], 'type': 'movie', 'tomatoes': {'viewer': {'rating': 3.4, 'numReviews': 596, 'meter': 56}, 'dvd': datetime.datetime(2008, 3, 25, 0, 0), 'production': 'WARNER BROTHERS PICTURES', 'lastUpdated': datetime.datetime(2015, 8, 26, 18, 17, 42)}}, {'_id': ObjectId('573a1393f29313caabcdc23e'), 'plot': \"Jimmy Connors and his girl-friend want to take part in Paul Whiteman's highschool's band contest, but they cannot afford the fare. But per chance the meet Paul Whiteman in person and are ...\", 'genres': ['Comedy', 'Musical', 'Romance'], 'runtime': 120, 'rated': 'PASSED', 'cast': ['Mickey Rooney', 'Judy Garland', 'Paul Whiteman and Orchestra', 'June Preisser'], 'poster': 'https://m.media-amazon.com/images/M/MV5BMzQ4YmY0YjctODkyOS00OGEzLTgyZjYtYjU4ZTU1MjlkMDhmXkEyXkFqcGdeQXVyNTE4MzAyNDk@._V1_SY1000_SX677_AL_.jpg', 'title': 'Strike Up the Band', 'fullplot': \"Jimmy Connors and his girl-friend want to take part in Paul Whiteman's highschool's band contest, but they cannot afford the fare. But per chance the meet Paul Whiteman in person and are able to convince him, that their band is good enought, so he lents sem the money. But then one of their friends becomes seriously ill and had to be carried in a hospital per plane, they had to use Whiteman's money for this.\", 'languages': ['English'], 'released': datetime.datetime(1940, 9, 27, 0, 0), 'directors': ['Busby Berkeley'], 'writers': ['John Monks Jr. (screen play)', 'Fred F. Finklehoffe (screen play)'], 'awards': {'wins': 0, 'nominations': 3, 'text': 'Won 1 Oscar. Another 2 nominations.'}, 'lastupdated': '2015-09-17 04:24:29.313000000', 'year': 1940, 'imdb': {'rating': 7.0, 'votes': 889, 'id': 33110}, 'countries': ['USA'], 'type': 'movie', 'tomatoes': {'viewer': {'rating': 3.8, 'numReviews': 946, 'meter': 80}, 'dvd': datetime.datetime(2007, 9, 25, 0, 0), 'production': 'Warner Home Video', 'lastUpdated': datetime.datetime(2015, 9, 10, 19, 14, 58)}, 'num_mflix_comments': 0}, {'_id': ObjectId('573a1393f29313caabcdc9ab'), 'plot': 'The spoiled young heir to the decaying Amberson fortune comes between his widowed mother and the man she has always loved.', 'genres': ['Drama', 'Romance'], 'runtime': 88, 'rated': 'APPROVED', 'cast': ['Joseph Cotten', 'Dolores Costello', 'Anne Baxter', 'Tim Holt'], 'num_mflix_comments': 0, 'poster': 'https://m.media-amazon.com/images/M/MV5BOTQ4Y2I5MzYtNDJkZS00YTFmLWJkODctMmU3YzQ3ZDhkMWE5XkEyXkFqcGdeQXVyNjc1NTYyMjg@._V1_SY1000_SX677_AL_.jpg', 'title': 'The Magnificent Ambersons', 'fullplot': 'The young, handsome, but somewhat wild Eugene Morgan wants to marry Isabel Amberson, daughter of a rich upper-class family, but she instead marries dull and steady Wilbur Minafer. Their only child, George, grows up a spoiled brat. Years later, Eugene comes back, now a mature widower and a successful automobile maker. After Wilbur dies, Eugene again asks Isabel to marry him, and she is receptive. But George resents the attentions paid to his mother, and he and his whacko aunt Fanny manage to sabotage the romance. A series of disasters befall the Ambersons and George, and he gets his come-uppance in the end.', 'languages': ['English'], 'released': datetime.datetime(1942, 7, 10, 0, 0), 'directors': ['Orson Welles', 'Fred Fleck', 'Robert Wise'], 'writers': ['Booth Tarkington (from the novel by)', 'Orson Welles (script writer)'], 'awards': {'wins': 6, 'nominations': 0, 'text': 'Nominated for 4 Oscars. Another 2 wins.'}, 'lastupdated': '2015-08-20 00:05:57.033000000', 'year': 1942, 'imdb': {'rating': 7.9, 'votes': 15821, 'id': 35015}, 'countries': ['USA'], 'type': 'movie', 'tomatoes': {'viewer': {'rating': 4.0, 'numReviews': 6262, 'meter': 85}, 'dvd': datetime.datetime(2012, 9, 18, 0, 0), 'critic': {'rating': 8.5, 'numReviews': 34, 'meter': 91}, 'lastUpdated': datetime.datetime(2015, 8, 31, 18, 50, 40), 'rotten': 3, 'production': 'RKO Radio Pictures', 'fresh': 31}}, {'_id': ObjectId('573a1393f29313caabcdd38a'), 'plot': \"At a big city Catholic school, Father O'Malley and Sister Benedict indulge in friendly rivalry, and succeed in extending the school through the gift of a building.\", 'genres': ['Drama', 'Family'], 'runtime': 126, 'rated': 'UNRATED', 'cast': ['Bing Crosby', 'Ingrid Bergman', 'Henry Travers', 'William Gargan'], 'poster': 'https://m.media-amazon.com/images/M/MV5BMDA5ZWY5YjYtYWJkMC00ZGJmLWFmNzMtZjk2MjliNzM1Y2ZjXkEyXkFqcGdeQXVyMDUyOTUyNQ@@._V1_SY1000_SX677_AL_.jpg', 'title': \"The Bells of St. Mary's\", 'fullplot': \"Father O'Malley, the unconventional priest from 'Going My Way', continues his work for the Catholic Church. This time he is sent to St. Mary's, a run-down parochial school on the verge of condemnation. He and Sister Benedict work together in an attempt to save the school, though their differing methods often lead to good-natured disagreements.\", 'languages': ['English'], 'released': datetime.datetime(1946, 2, 21, 0, 0), 'directors': ['Leo McCarey'], 'writers': ['Dudley Nichols (screenplay)', 'Leo McCarey (story)'], 'awards': {'wins': 4, 'nominations': 7, 'text': 'Won 1 Oscar. Another 3 wins & 7 nominations.'}, 'lastupdated': '2015-07-20 00:22:19.340000000', 'year': 1945, 'imdb': {'rating': 7.5, 'votes': 5116, 'id': 37536}, 'countries': ['USA'], 'type': 'movie', 'tomatoes': {'viewer': {'rating': 3.7, 'numReviews': 7057, 'meter': 78}, 'dvd': datetime.datetime(2003, 9, 23, 0, 0), 'critic': {'rating': 7.3, 'numReviews': 18, 'meter': 94}, 'lastUpdated': datetime.datetime(2015, 9, 2, 18, 35, 37), 'rotten': 1, 'production': 'RKO Radio Pictures', 'fresh': 17}, 'num_mflix_comments': 0}, {'_id': ObjectId('573a1393f29313caabcddbed'), 'countries': ['Spain'], 'genres': ['Drama'], 'runtime': 87, 'cast': ['Paola Barbara', 'Manuel Luna', 'Josè Nieto', 'Raquel Rodrigo'], 'num_mflix_comments': 1, 'title': 'La nao capitana', 'lastupdated': '2014-01-23 00:00:00', 'languages': ['Spanish'], 'released': datetime.datetime(1947, 9, 29, 0, 0), 'directors': ['Florièn Rey'], 'writers': ['Ricardo Baroja (novel)', 'Manuel Tamayo'], 'awards': {'wins': 2, 'nominations': 0, 'text': '2 wins.'}, 'year': 1947, 'imdb': {'rating': '', 'votes': '', 'id': 39653}, 'type': 'movie', 'tomatoes': {'viewer': {'rating': 3.4, 'numReviews': 67, 'meter': 67}, 'dvd': datetime.datetime(2000, 5, 9, 0, 0), 'lastUpdated': datetime.datetime(2015, 7, 1, 19, 30, 40)}}, {'_id': ObjectId('573a1393f29313caabcde455'), 'plot': 'When strongman Samson rejects the love of the beautiful Philistine woman Delilah, she seeks vengeance that brings horrible consequences they both regret.', 'genres': ['Adventure', 'Drama', 'History'], 'runtime': 131, 'rated': 'NOT RATED', 'cast': ['Hedy Lamarr', 'Victor Mature', 'George Sanders', 'Angela Lansbury'], 'num_mflix_comments': 0, 'poster': 'https://m.media-amazon.com/images/M/MV5BNmE1NTg5OWQtYzcwNi00ZDFkLWJmZjgtNDM3ZjZiODAxYmE2XkEyXkFqcGdeQXVyNjc1NTYyMjg@._V1_SY1000_SX677_AL_.jpg', 'title': 'Samson and Delilah', 'fullplot': 'Though his people, the Israelites, are enslaved by the Philistines, Samson, strongest man of the tribe of Dan, falls in love with the Philistine Semadar, whom he wins by virtue of a contest of strength. But Semadar betrays him, and Samson engages in a fight with her real love, Ahtur, and his soldiers. Semadar is killed, and her sister Delilah, who had loved Samson in silence, now vows vengeance against him. She plans to seduce Samson into revealing the secret of his strength and then to betray him to the Philistine leader, the Saran.', 'languages': ['English'], 'released': datetime.datetime(1950, 1, 1, 0, 0), 'directors': ['Cecil B. DeMille'], 'writers': ['Jesse Lasky Jr. (screenplay)', 'Fredric M. Frank (screenplay)', 'Harold Lamb (original treatment)', 'Vladimir Jabotinsky (treatment)'], 'awards': {'wins': 3, 'nominations': 5, 'text': 'Won 2 Oscars. Another 1 win & 5 nominations.'}, 'lastupdated': '2015-09-02 00:39:03.227000000', 'year': 1949, 'imdb': {'rating': 6.8, 'votes': 4262, 'id': 41838}, 'countries': ['USA'], 'type': 'movie', 'tomatoes': {'viewer': {'rating': 3.5, 'numReviews': 2020, 'meter': 58}, 'dvd': datetime.datetime(2013, 3, 12, 0, 0), 'critic': {'rating': 6.2, 'numReviews': 8, 'meter': 50}, 'lastUpdated': datetime.datetime(2015, 9, 15, 17, 21, 15), 'rotten': 4, 'production': 'Paramount Home Video', 'fresh': 4}}]\n"
          ]
        }
      ]
    },
    {
      "cell_type": "code",
      "source": [
        "from bson import ObjectId\n",
        "\n",
        "#Connecting to the SQLite Database\n",
        "conn = sqlite3.connect('movies_and_shows.db')\n",
        "\n",
        "#Creating a cursor to execute SQL commands\n",
        "cursor = conn.cursor()\n",
        "\n",
        "#Looping through the list of movie data from the MongoDB to insert movie data into the Movie table\n",
        "for movie in data_list:\n",
        "\n",
        "    #Joining the list of genres and list of cast memebers into single strings separated by commas (asked chat how to do this)\n",
        "    genres_str = ', '.join(movie.get('genres', []))\n",
        "    cast = movie.get('cast',[])\n",
        "\n",
        "    #Checking that cast has valid values\n",
        "    if isinstance(cast, list):\n",
        "      cast_str =', '.join(cast)\n",
        "    else:\n",
        "      cast = None\n",
        "\n",
        "    cursor.execute('''INSERT INTO Movies (title, description, genre, release_year, cast, duration)\n",
        "                      VALUES (?, ?, ?, ?, ?, ?)''', (\n",
        "                          movie.get('title'),\n",
        "                          movie.get('plot'),\n",
        "                          genres_str,\n",
        "                          movie.get('year'),\n",
        "                          cast_str,\n",
        "                          movie.get('runtime')\n",
        "                  ))\n",
        "\n",
        "#Committing changes to the Database\n",
        "conn.commit()\n",
        "\n",
        "#Closing the connection to the Database\n",
        "conn.close()"
      ],
      "metadata": {
        "id": "EEZ9vgRwpO2U"
      },
      "execution_count": 242,
      "outputs": []
    },
    {
      "cell_type": "code",
      "source": [
        "#Connecting to the SQLite Database\n",
        "conn = sqlite3.connect('movies_and_shows.db')\n",
        "\n",
        "#Querrying the data from the Movies table to convert it to a DataFrame (asked chat how to do this)\n",
        "query = f\"SELECT * FROM Movies\"\n",
        "data = pd.read_sql_query(query, conn)\n",
        "\n",
        "#Closing the connection to the Database\n",
        "conn.close()\n",
        "\n",
        "#Exporting the DataFrame to a CSV file\n",
        "data.to_csv('movies_table.csv', index=False)"
      ],
      "metadata": {
        "id": "zrsRaN-z6XVQ"
      },
      "execution_count": 243,
      "outputs": []
    },
    {
      "cell_type": "code",
      "source": [
        "import requests\n",
        "\n",
        "#API key details\n",
        "api_key = '56100165'\n",
        "\n",
        "#Base URL and parameters for the OMDb API request\n",
        "def get_api_data(title, api_key):\n",
        "  base_url = 'http://www.omdbapi.com/'\n",
        "  params = {\n",
        "      't': title,\n",
        "      'apikey': api_key\n",
        "  }\n",
        "  try:\n",
        "    response = requests.get(base_url, params=params)\n",
        "    response.raise_for_status()\n",
        "  except requests.exceptions.HTTPError as errh:\n",
        "    return \"An Http Error occurred: \" + repr(errh)\n",
        "  except requests.exceptions.ConnectionError as errc:\n",
        "    return \"An Error Connecting to the API occurred: \" + repr(errc)\n",
        "  except requests.exceptions.Timeout as errt:\n",
        "    return \"A Timeout Error occurred: \" + repr(errt)\n",
        "  except requests.exceptions.RequestException as err:\n",
        "    return \"An Unknown Error occurred: \" + repr(err)\n",
        "  return response.json()"
      ],
      "metadata": {
        "id": "HabMeZqxvjE2"
      },
      "execution_count": 244,
      "outputs": []
    },
    {
      "cell_type": "code",
      "source": [
        "#Connecting to the SQLite Database\n",
        "conn = sqlite3.connect('movies_and_shows.db')\n",
        "\n",
        "#Creating a cursor to execute SQL commands\n",
        "cursor = conn.cursor()\n",
        "\n",
        "#Getting the titles from Movies and Shows tables\n",
        "cursor.execute(\"SELECT title FROM Movies\")\n",
        "fetch = cursor.fetchall()\n",
        "movies_titles = []\n",
        "for row in fetch:\n",
        "  movies_titles.append(row[0])\n",
        "\n",
        "cursor.execute(\"SELECT title FROM Shows\")\n",
        "fetch = cursor.fetchall()\n",
        "shows_titles = []\n",
        "for row in fetch:\n",
        "  shows_titles.append(row[0])\n",
        "\n",
        "#Creating lists to store the movie and show data\n",
        "movie_data = []\n",
        "show_data = []\n",
        "\n",
        "#Getting movie data from OMDb API and adding it to the movie_data list\n",
        "for title in movies_titles:\n",
        "    data = get_api_data(title, api_key)\n",
        "    print(data)\n",
        "    if data:\n",
        "        movie_data.append(data)\n",
        "\n",
        "#Getting show data from OMDb API and adding it to the show_data list\n",
        "for title in shows_titles:\n",
        "    data = get_api_data(title, api_key)\n",
        "    if data:\n",
        "        show_data.append(data)\n",
        "\n",
        "#Converting movie_data and show_data lists into DataFrames\n",
        "movie_ratings = pd.DataFrame(movie_data)\n",
        "show_ratings = pd.DataFrame(show_data)\n",
        "\n",
        "#Committing changes to the Database\n",
        "conn.commit()\n",
        "\n",
        "#Closing the connection to the Database\n",
        "conn.close()"
      ],
      "metadata": {
        "colab": {
          "base_uri": "https://localhost:8080/"
        },
        "id": "I7fPUKUdYVZh",
        "outputId": "5bc1e815-2735-46d0-fb30-d29439d6c29c"
      },
      "execution_count": 245,
      "outputs": [
        {
          "output_type": "stream",
          "name": "stdout",
          "text": [
            "{'Title': 'Where Are My Children?', 'Year': '1916', 'Rated': 'Approved', 'Released': '01 May 1916', 'Runtime': '62 min', 'Genre': 'Drama', 'Director': 'Phillips Smalley, Lois Weber', 'Writer': 'Lucy Payton, Franklyn Hall, Lois Weber', 'Actors': 'Tyrone Power Sr., Mrs. Tyrone Power, Marie Walcamp', 'Plot': \"A District Attorney's outspoken stand on abortion lands him in trouble with the local community.\", 'Language': 'None, English', 'Country': 'United States', 'Awards': '1 win', 'Poster': 'https://m.media-amazon.com/images/M/MV5BM2UxNTNiYjYtYjZkYy00MzI0LWExZWItZDZhOWEzNWFkZGMzXkEyXkFqcGdeQXVyMTk2MzI2Ng@@._V1_SX300.jpg', 'Ratings': [{'Source': 'Internet Movie Database', 'Value': '6.2/10'}], 'Metascore': 'N/A', 'imdbRating': '6.2', 'imdbVotes': '855', 'imdbID': 'tt0007558', 'Type': 'movie', 'DVD': '25 Feb 2020', 'BoxOffice': 'N/A', 'Production': 'N/A', 'Website': 'N/A', 'Response': 'True'}\n",
            "{'Title': 'Cops', 'Year': '1989–2023', 'Rated': 'TV-14', 'Released': '11 Mar 1989', 'Runtime': '1 min', 'Genre': 'Action, Crime, Reality-TV', 'Director': 'N/A', 'Writer': 'John Langley, Malcolm Barbour', 'Actors': 'Ruben Barela, Andrew Fincher, Alex Cox', 'Plot': 'Camera crews follow police officers while they work.', 'Language': 'English, Spanish, German, Russian', 'Country': 'United States', 'Awards': 'Nominated for 4 Primetime Emmys. 2 wins & 5 nominations total', 'Poster': 'https://m.media-amazon.com/images/M/MV5BYzFmODRmYTMtNjZkMS00ZjdkLThlZjgtMjM1NzEzZTgxM2JmXkEyXkFqcGdeQXVyNDIzMzcwNjc@._V1_SX300.jpg', 'Ratings': [{'Source': 'Internet Movie Database', 'Value': '6.9/10'}], 'Metascore': 'N/A', 'imdbRating': '6.9', 'imdbVotes': '7,075', 'imdbID': 'tt0096563', 'Type': 'series', 'totalSeasons': '33', 'Response': 'True'}\n",
            "{'Title': 'Wild Oranges', 'Year': '1924', 'Rated': 'Passed', 'Released': '20 Jan 1924', 'Runtime': '88 min', 'Genre': 'Drama, Romance', 'Director': 'King Vidor', 'Writer': 'Joseph Hergesheimer, King Vidor, Tom Miranda', 'Actors': 'Frank Mayo, Virginia Valli, Ford Sterling', 'Plot': \"Millie Stope lives with her grandfather on a remote island. Her grandfather fled there for political reasons. But they're not alone. An escaped prisoner, Nicholas, is terrorizing them, and further more, he's interested in Mllie. J...\", 'Language': 'None, English', 'Country': 'United States', 'Awards': '3 wins', 'Poster': 'https://m.media-amazon.com/images/M/MV5BYjE0M2JjZmEtMDc5YS00M2UyLTg5N2YtZWYyYzZmZGE0NTFkXkEyXkFqcGdeQXVyNDY1NzU5NjY@._V1_SX300.jpg', 'Ratings': [{'Source': 'Internet Movie Database', 'Value': '6.7/10'}], 'Metascore': 'N/A', 'imdbRating': '6.7', 'imdbVotes': '563', 'imdbID': 'tt0015498', 'Type': 'movie', 'DVD': 'N/A', 'BoxOffice': 'N/A', 'Production': 'N/A', 'Website': 'N/A', 'Response': 'True'}\n",
            "{'Title': 'Chiamami Salomè', 'Year': '2006', 'Rated': 'N/A', 'Released': '09 May 2008', 'Runtime': '96 min', 'Genre': 'Drama', 'Director': 'Claudio Sestieri', 'Writer': 'Claudio Sestieri', 'Actors': 'Giovanni Agrò, Riccardo Cicogna, Carolina Felline', 'Plot': 'Herod is a Neapolitan boss who runs The Last Emperor, an infamous local, and Herodias is his vicious partner. Salomè is a young, immature and beautiful girl, desired by many men including her stepfather Herod. John is a protester ...', 'Language': 'Italian', 'Country': 'Italy', 'Awards': 'N/A', 'Poster': 'https://m.media-amazon.com/images/M/MV5BNjg3NTUwMTA5MV5BMl5BanBnXkFtZTgwODU3MTQxNTE@._V1_SX300.jpg', 'Ratings': [{'Source': 'Internet Movie Database', 'Value': '5.0/10'}], 'Metascore': 'N/A', 'imdbRating': '5.0', 'imdbVotes': '24', 'imdbID': 'tt0497024', 'Type': 'movie', 'DVD': 'N/A', 'BoxOffice': 'N/A', 'Production': 'N/A', 'Website': 'N/A', 'Response': 'True'}\n",
            "{'Title': 'Black Legion', 'Year': '1937', 'Rated': 'Passed', 'Released': '30 Jan 1937', 'Runtime': '83 min', 'Genre': 'Crime, Drama, Film-Noir', 'Director': 'Archie Mayo, Michael Curtiz', 'Writer': 'Abem Finkel, William Wister Haines, Robert Lord', 'Actors': 'Humphrey Bogart, Ann Sheridan, Dick Foran', 'Plot': \"A hard-working machinist loses a promotion to a Polish-born worker, he's seduced into joining the secretive Black Legion, which intimidates foreigners through violence.\", 'Language': 'English', 'Country': 'United States', 'Awards': 'Nominated for 1 Oscar. 2 wins & 1 nomination total', 'Poster': 'https://m.media-amazon.com/images/M/MV5BZmU5MGQ2M2MtYmRlMy00MDY1LWFiZWQtYTdjOWMxYzdjMWEzXkEyXkFqcGdeQXVyMjUxODE0MDY@._V1_SX300.jpg', 'Ratings': [{'Source': 'Internet Movie Database', 'Value': '6.9/10'}, {'Source': 'Rotten Tomatoes', 'Value': '100%'}], 'Metascore': 'N/A', 'imdbRating': '6.9', 'imdbVotes': '3,891', 'imdbID': 'tt0027367', 'Type': 'movie', 'DVD': '23 May 2016', 'BoxOffice': 'N/A', 'Production': 'N/A', 'Website': 'N/A', 'Response': 'True'}\n",
            "{'Title': 'Strike Up the Band', 'Year': '1940', 'Rated': 'Passed', 'Released': '27 Sep 1940', 'Runtime': '120 min', 'Genre': 'Comedy, Musical, Romance', 'Director': 'Busby Berkeley', 'Writer': 'John Monks Jr., Fred F. Finklehoffe, Herbert Fields', 'Actors': 'Mickey Rooney, Judy Garland, Paul Whiteman', 'Plot': 'A high-school boy wants to become a professional musician, and his gal pal wants to become his best girl. They work together staging big-band shows with fellow classmates in the hopes of hitting it big.', 'Language': 'English', 'Country': 'United States', 'Awards': 'Won 1 Oscar. 1 win & 2 nominations total', 'Poster': 'https://m.media-amazon.com/images/M/MV5BMzQ4YmY0YjctODkyOS00OGEzLTgyZjYtYjU4ZTU1MjlkMDhmXkEyXkFqcGdeQXVyNTE4MzAyNDk@._V1_SX300.jpg', 'Ratings': [{'Source': 'Internet Movie Database', 'Value': '6.8/10'}, {'Source': 'Metacritic', 'Value': '59/100'}], 'Metascore': '59', 'imdbRating': '6.8', 'imdbVotes': '1,894', 'imdbID': 'tt0033110', 'Type': 'movie', 'DVD': '01 Apr 2012', 'BoxOffice': 'N/A', 'Production': 'N/A', 'Website': 'N/A', 'Response': 'True'}\n",
            "{'Title': 'The Magnificent Ambersons', 'Year': '1942', 'Rated': 'Not Rated', 'Released': '10 Jul 1942', 'Runtime': '88 min', 'Genre': 'Drama, Romance', 'Director': 'Orson Welles, Fred Fleck, Robert Wise', 'Writer': 'Booth Tarkington, Orson Welles, Joseph Cotten', 'Actors': 'Tim Holt, Joseph Cotten, Dolores Costello', 'Plot': 'The spoiled young heir to the decaying Amberson fortune comes between his widowed mother and the man she has always loved.', 'Language': 'English', 'Country': 'United States', 'Awards': 'Nominated for 4 Oscars. 4 wins & 4 nominations total', 'Poster': 'https://m.media-amazon.com/images/M/MV5BOTQ4Y2I5MzYtNDJkZS00YTFmLWJkODctMmU3YzQ3ZDhkMWE5XkEyXkFqcGdeQXVyNjc1NTYyMjg@._V1_SX300.jpg', 'Ratings': [{'Source': 'Internet Movie Database', 'Value': '7.6/10'}, {'Source': 'Rotten Tomatoes', 'Value': '89%'}, {'Source': 'Metacritic', 'Value': '93/100'}], 'Metascore': '93', 'imdbRating': '7.6', 'imdbVotes': '26,639', 'imdbID': 'tt0035015', 'Type': 'movie', 'DVD': '01 Apr 2012', 'BoxOffice': 'N/A', 'Production': 'N/A', 'Website': 'N/A', 'Response': 'True'}\n",
            "{'Title': \"The Bells of St. Mary's\", 'Year': '1945', 'Rated': 'Unrated', 'Released': '21 Feb 1946', 'Runtime': '126 min', 'Genre': 'Drama', 'Director': 'Leo McCarey', 'Writer': 'Dudley Nichols, Leo McCarey', 'Actors': 'Bing Crosby, Ingrid Bergman, Henry Travers', 'Plot': \"At a big city Catholic school, Father O'Malley and Sister Benedict indulge in friendly rivalry, and succeed in extending the school through the gift of a building.\", 'Language': 'English, Latin, Swedish', 'Country': 'United States', 'Awards': 'Won 1 Oscar. 6 wins & 8 nominations total', 'Poster': 'https://m.media-amazon.com/images/M/MV5BYWYyZjk5OGEtZTFhNS00OTg0LWJjNWEtYjlkOTQ1MjM1N2ZkXkEyXkFqcGdeQXVyMDI2NDg0NQ@@._V1_SX300.jpg', 'Ratings': [{'Source': 'Internet Movie Database', 'Value': '7.2/10'}, {'Source': 'Rotten Tomatoes', 'Value': '85%'}], 'Metascore': 'N/A', 'imdbRating': '7.2', 'imdbVotes': '9,253', 'imdbID': 'tt0037536', 'Type': 'movie', 'DVD': '09 Aug 2020', 'BoxOffice': '$21,333,333', 'Production': 'N/A', 'Website': 'N/A', 'Response': 'True'}\n",
            "{'Title': 'La nao Capitana', 'Year': '1947', 'Rated': 'N/A', 'Released': '09 Dec 1949', 'Runtime': '87 min', 'Genre': 'Drama', 'Director': 'Florián Rey', 'Writer': 'Ricardo Baroja, Manuel Tamayo', 'Actors': 'Paola Barbara, Manuel Luna, José Nieto', 'Plot': 'The Capitana ship departs from Seville to the West Indies. There travel don Antonio, his wife Estrella and their daughters Leonor and Trinidad. On the high seas a stowaway is discovered, a Moorish in love with Estrella, who, in co...', 'Language': 'Spanish', 'Country': 'Spain', 'Awards': '2 wins', 'Poster': 'https://m.media-amazon.com/images/M/MV5BNTgwZTg3ZWQtY2M1NS00NTY4LThlOTktNGQ1ZTIyN2E2OWQ5L2ltYWdlL2ltYWdlXkEyXkFqcGdeQXVyNTkyMzkxODQ@._V1_SX300.jpg', 'Ratings': [{'Source': 'Internet Movie Database', 'Value': '5.9/10'}], 'Metascore': 'N/A', 'imdbRating': '5.9', 'imdbVotes': '18', 'imdbID': 'tt0039653', 'Type': 'movie', 'DVD': 'N/A', 'BoxOffice': 'N/A', 'Production': 'N/A', 'Website': 'N/A', 'Response': 'True'}\n",
            "{'Title': 'Samson and Delilah', 'Year': '1949', 'Rated': 'Approved', 'Released': '21 Sep 1950', 'Runtime': '134 min', 'Genre': 'Drama, Family, History', 'Director': 'Cecil B. DeMille', 'Writer': 'Jesse Lasky Jr., Fredric M. Frank, Harold Lamb', 'Actors': 'Hedy Lamarr, Victor Mature, George Sanders', 'Plot': 'When strongman Samson rejects the love of the beautiful Philistine woman Delilah, she seeks vengeance that brings horrible consequences they both regret.', 'Language': 'English', 'Country': 'United States', 'Awards': 'Won 2 Oscars. 7 wins & 5 nominations total', 'Poster': 'https://m.media-amazon.com/images/M/MV5BNmE1NTg5OWQtYzcwNi00ZDFkLWJmZjgtNDM3ZjZiODAxYmE2XkEyXkFqcGdeQXVyNjc1NTYyMjg@._V1_SX300.jpg', 'Ratings': [{'Source': 'Internet Movie Database', 'Value': '6.8/10'}, {'Source': 'Rotten Tomatoes', 'Value': '56%'}], 'Metascore': 'N/A', 'imdbRating': '6.8', 'imdbVotes': '8,910', 'imdbID': 'tt0041838', 'Type': 'movie', 'DVD': '01 May 2012', 'BoxOffice': 'N/A', 'Production': 'N/A', 'Website': 'N/A', 'Response': 'True'}\n",
            "{'Title': 'Where Are My Children?', 'Year': '1916', 'Rated': 'Approved', 'Released': '01 May 1916', 'Runtime': '62 min', 'Genre': 'Drama', 'Director': 'Phillips Smalley, Lois Weber', 'Writer': 'Lucy Payton, Franklyn Hall, Lois Weber', 'Actors': 'Tyrone Power Sr., Mrs. Tyrone Power, Marie Walcamp', 'Plot': \"A District Attorney's outspoken stand on abortion lands him in trouble with the local community.\", 'Language': 'None, English', 'Country': 'United States', 'Awards': '1 win', 'Poster': 'https://m.media-amazon.com/images/M/MV5BM2UxNTNiYjYtYjZkYy00MzI0LWExZWItZDZhOWEzNWFkZGMzXkEyXkFqcGdeQXVyMTk2MzI2Ng@@._V1_SX300.jpg', 'Ratings': [{'Source': 'Internet Movie Database', 'Value': '6.2/10'}], 'Metascore': 'N/A', 'imdbRating': '6.2', 'imdbVotes': '855', 'imdbID': 'tt0007558', 'Type': 'movie', 'DVD': '25 Feb 2020', 'BoxOffice': 'N/A', 'Production': 'N/A', 'Website': 'N/A', 'Response': 'True'}\n",
            "{'Title': 'Cops', 'Year': '1989–2023', 'Rated': 'TV-14', 'Released': '11 Mar 1989', 'Runtime': '1 min', 'Genre': 'Action, Crime, Reality-TV', 'Director': 'N/A', 'Writer': 'John Langley, Malcolm Barbour', 'Actors': 'Ruben Barela, Andrew Fincher, Alex Cox', 'Plot': 'Camera crews follow police officers while they work.', 'Language': 'English, Spanish, German, Russian', 'Country': 'United States', 'Awards': 'Nominated for 4 Primetime Emmys. 2 wins & 5 nominations total', 'Poster': 'https://m.media-amazon.com/images/M/MV5BYzFmODRmYTMtNjZkMS00ZjdkLThlZjgtMjM1NzEzZTgxM2JmXkEyXkFqcGdeQXVyNDIzMzcwNjc@._V1_SX300.jpg', 'Ratings': [{'Source': 'Internet Movie Database', 'Value': '6.9/10'}], 'Metascore': 'N/A', 'imdbRating': '6.9', 'imdbVotes': '7,075', 'imdbID': 'tt0096563', 'Type': 'series', 'totalSeasons': '33', 'Response': 'True'}\n",
            "{'Title': 'Wild Oranges', 'Year': '1924', 'Rated': 'Passed', 'Released': '20 Jan 1924', 'Runtime': '88 min', 'Genre': 'Drama, Romance', 'Director': 'King Vidor', 'Writer': 'Joseph Hergesheimer, King Vidor, Tom Miranda', 'Actors': 'Frank Mayo, Virginia Valli, Ford Sterling', 'Plot': \"Millie Stope lives with her grandfather on a remote island. Her grandfather fled there for political reasons. But they're not alone. An escaped prisoner, Nicholas, is terrorizing them, and further more, he's interested in Mllie. J...\", 'Language': 'None, English', 'Country': 'United States', 'Awards': '3 wins', 'Poster': 'https://m.media-amazon.com/images/M/MV5BYjE0M2JjZmEtMDc5YS00M2UyLTg5N2YtZWYyYzZmZGE0NTFkXkEyXkFqcGdeQXVyNDY1NzU5NjY@._V1_SX300.jpg', 'Ratings': [{'Source': 'Internet Movie Database', 'Value': '6.7/10'}], 'Metascore': 'N/A', 'imdbRating': '6.7', 'imdbVotes': '563', 'imdbID': 'tt0015498', 'Type': 'movie', 'DVD': 'N/A', 'BoxOffice': 'N/A', 'Production': 'N/A', 'Website': 'N/A', 'Response': 'True'}\n",
            "{'Title': 'Chiamami Salomè', 'Year': '2006', 'Rated': 'N/A', 'Released': '09 May 2008', 'Runtime': '96 min', 'Genre': 'Drama', 'Director': 'Claudio Sestieri', 'Writer': 'Claudio Sestieri', 'Actors': 'Giovanni Agrò, Riccardo Cicogna, Carolina Felline', 'Plot': 'Herod is a Neapolitan boss who runs The Last Emperor, an infamous local, and Herodias is his vicious partner. Salomè is a young, immature and beautiful girl, desired by many men including her stepfather Herod. John is a protester ...', 'Language': 'Italian', 'Country': 'Italy', 'Awards': 'N/A', 'Poster': 'https://m.media-amazon.com/images/M/MV5BNjg3NTUwMTA5MV5BMl5BanBnXkFtZTgwODU3MTQxNTE@._V1_SX300.jpg', 'Ratings': [{'Source': 'Internet Movie Database', 'Value': '5.0/10'}], 'Metascore': 'N/A', 'imdbRating': '5.0', 'imdbVotes': '24', 'imdbID': 'tt0497024', 'Type': 'movie', 'DVD': 'N/A', 'BoxOffice': 'N/A', 'Production': 'N/A', 'Website': 'N/A', 'Response': 'True'}\n",
            "{'Title': 'Black Legion', 'Year': '1937', 'Rated': 'Passed', 'Released': '30 Jan 1937', 'Runtime': '83 min', 'Genre': 'Crime, Drama, Film-Noir', 'Director': 'Archie Mayo, Michael Curtiz', 'Writer': 'Abem Finkel, William Wister Haines, Robert Lord', 'Actors': 'Humphrey Bogart, Ann Sheridan, Dick Foran', 'Plot': \"A hard-working machinist loses a promotion to a Polish-born worker, he's seduced into joining the secretive Black Legion, which intimidates foreigners through violence.\", 'Language': 'English', 'Country': 'United States', 'Awards': 'Nominated for 1 Oscar. 2 wins & 1 nomination total', 'Poster': 'https://m.media-amazon.com/images/M/MV5BZmU5MGQ2M2MtYmRlMy00MDY1LWFiZWQtYTdjOWMxYzdjMWEzXkEyXkFqcGdeQXVyMjUxODE0MDY@._V1_SX300.jpg', 'Ratings': [{'Source': 'Internet Movie Database', 'Value': '6.9/10'}, {'Source': 'Rotten Tomatoes', 'Value': '100%'}], 'Metascore': 'N/A', 'imdbRating': '6.9', 'imdbVotes': '3,891', 'imdbID': 'tt0027367', 'Type': 'movie', 'DVD': '23 May 2016', 'BoxOffice': 'N/A', 'Production': 'N/A', 'Website': 'N/A', 'Response': 'True'}\n",
            "{'Title': 'Strike Up the Band', 'Year': '1940', 'Rated': 'Passed', 'Released': '27 Sep 1940', 'Runtime': '120 min', 'Genre': 'Comedy, Musical, Romance', 'Director': 'Busby Berkeley', 'Writer': 'John Monks Jr., Fred F. Finklehoffe, Herbert Fields', 'Actors': 'Mickey Rooney, Judy Garland, Paul Whiteman', 'Plot': 'A high-school boy wants to become a professional musician, and his gal pal wants to become his best girl. They work together staging big-band shows with fellow classmates in the hopes of hitting it big.', 'Language': 'English', 'Country': 'United States', 'Awards': 'Won 1 Oscar. 1 win & 2 nominations total', 'Poster': 'https://m.media-amazon.com/images/M/MV5BMzQ4YmY0YjctODkyOS00OGEzLTgyZjYtYjU4ZTU1MjlkMDhmXkEyXkFqcGdeQXVyNTE4MzAyNDk@._V1_SX300.jpg', 'Ratings': [{'Source': 'Internet Movie Database', 'Value': '6.8/10'}, {'Source': 'Metacritic', 'Value': '59/100'}], 'Metascore': '59', 'imdbRating': '6.8', 'imdbVotes': '1,894', 'imdbID': 'tt0033110', 'Type': 'movie', 'DVD': '01 Apr 2012', 'BoxOffice': 'N/A', 'Production': 'N/A', 'Website': 'N/A', 'Response': 'True'}\n",
            "{'Title': 'The Magnificent Ambersons', 'Year': '1942', 'Rated': 'Not Rated', 'Released': '10 Jul 1942', 'Runtime': '88 min', 'Genre': 'Drama, Romance', 'Director': 'Orson Welles, Fred Fleck, Robert Wise', 'Writer': 'Booth Tarkington, Orson Welles, Joseph Cotten', 'Actors': 'Tim Holt, Joseph Cotten, Dolores Costello', 'Plot': 'The spoiled young heir to the decaying Amberson fortune comes between his widowed mother and the man she has always loved.', 'Language': 'English', 'Country': 'United States', 'Awards': 'Nominated for 4 Oscars. 4 wins & 4 nominations total', 'Poster': 'https://m.media-amazon.com/images/M/MV5BOTQ4Y2I5MzYtNDJkZS00YTFmLWJkODctMmU3YzQ3ZDhkMWE5XkEyXkFqcGdeQXVyNjc1NTYyMjg@._V1_SX300.jpg', 'Ratings': [{'Source': 'Internet Movie Database', 'Value': '7.6/10'}, {'Source': 'Rotten Tomatoes', 'Value': '89%'}, {'Source': 'Metacritic', 'Value': '93/100'}], 'Metascore': '93', 'imdbRating': '7.6', 'imdbVotes': '26,639', 'imdbID': 'tt0035015', 'Type': 'movie', 'DVD': '01 Apr 2012', 'BoxOffice': 'N/A', 'Production': 'N/A', 'Website': 'N/A', 'Response': 'True'}\n",
            "{'Title': \"The Bells of St. Mary's\", 'Year': '1945', 'Rated': 'Unrated', 'Released': '21 Feb 1946', 'Runtime': '126 min', 'Genre': 'Drama', 'Director': 'Leo McCarey', 'Writer': 'Dudley Nichols, Leo McCarey', 'Actors': 'Bing Crosby, Ingrid Bergman, Henry Travers', 'Plot': \"At a big city Catholic school, Father O'Malley and Sister Benedict indulge in friendly rivalry, and succeed in extending the school through the gift of a building.\", 'Language': 'English, Latin, Swedish', 'Country': 'United States', 'Awards': 'Won 1 Oscar. 6 wins & 8 nominations total', 'Poster': 'https://m.media-amazon.com/images/M/MV5BYWYyZjk5OGEtZTFhNS00OTg0LWJjNWEtYjlkOTQ1MjM1N2ZkXkEyXkFqcGdeQXVyMDI2NDg0NQ@@._V1_SX300.jpg', 'Ratings': [{'Source': 'Internet Movie Database', 'Value': '7.2/10'}, {'Source': 'Rotten Tomatoes', 'Value': '85%'}], 'Metascore': 'N/A', 'imdbRating': '7.2', 'imdbVotes': '9,253', 'imdbID': 'tt0037536', 'Type': 'movie', 'DVD': '09 Aug 2020', 'BoxOffice': '$21,333,333', 'Production': 'N/A', 'Website': 'N/A', 'Response': 'True'}\n",
            "{'Title': 'La nao Capitana', 'Year': '1947', 'Rated': 'N/A', 'Released': '09 Dec 1949', 'Runtime': '87 min', 'Genre': 'Drama', 'Director': 'Florián Rey', 'Writer': 'Ricardo Baroja, Manuel Tamayo', 'Actors': 'Paola Barbara, Manuel Luna, José Nieto', 'Plot': 'The Capitana ship departs from Seville to the West Indies. There travel don Antonio, his wife Estrella and their daughters Leonor and Trinidad. On the high seas a stowaway is discovered, a Moorish in love with Estrella, who, in co...', 'Language': 'Spanish', 'Country': 'Spain', 'Awards': '2 wins', 'Poster': 'https://m.media-amazon.com/images/M/MV5BNTgwZTg3ZWQtY2M1NS00NTY4LThlOTktNGQ1ZTIyN2E2OWQ5L2ltYWdlL2ltYWdlXkEyXkFqcGdeQXVyNTkyMzkxODQ@._V1_SX300.jpg', 'Ratings': [{'Source': 'Internet Movie Database', 'Value': '5.9/10'}], 'Metascore': 'N/A', 'imdbRating': '5.9', 'imdbVotes': '18', 'imdbID': 'tt0039653', 'Type': 'movie', 'DVD': 'N/A', 'BoxOffice': 'N/A', 'Production': 'N/A', 'Website': 'N/A', 'Response': 'True'}\n",
            "{'Title': 'Samson and Delilah', 'Year': '1949', 'Rated': 'Approved', 'Released': '21 Sep 1950', 'Runtime': '134 min', 'Genre': 'Drama, Family, History', 'Director': 'Cecil B. DeMille', 'Writer': 'Jesse Lasky Jr., Fredric M. Frank, Harold Lamb', 'Actors': 'Hedy Lamarr, Victor Mature, George Sanders', 'Plot': 'When strongman Samson rejects the love of the beautiful Philistine woman Delilah, she seeks vengeance that brings horrible consequences they both regret.', 'Language': 'English', 'Country': 'United States', 'Awards': 'Won 2 Oscars. 7 wins & 5 nominations total', 'Poster': 'https://m.media-amazon.com/images/M/MV5BNmE1NTg5OWQtYzcwNi00ZDFkLWJmZjgtNDM3ZjZiODAxYmE2XkEyXkFqcGdeQXVyNjc1NTYyMjg@._V1_SX300.jpg', 'Ratings': [{'Source': 'Internet Movie Database', 'Value': '6.8/10'}, {'Source': 'Rotten Tomatoes', 'Value': '56%'}], 'Metascore': 'N/A', 'imdbRating': '6.8', 'imdbVotes': '8,910', 'imdbID': 'tt0041838', 'Type': 'movie', 'DVD': '01 May 2012', 'BoxOffice': 'N/A', 'Production': 'N/A', 'Website': 'N/A', 'Response': 'True'}\n",
            "{'Title': 'Where Are My Children?', 'Year': '1916', 'Rated': 'Approved', 'Released': '01 May 1916', 'Runtime': '62 min', 'Genre': 'Drama', 'Director': 'Phillips Smalley, Lois Weber', 'Writer': 'Lucy Payton, Franklyn Hall, Lois Weber', 'Actors': 'Tyrone Power Sr., Mrs. Tyrone Power, Marie Walcamp', 'Plot': \"A District Attorney's outspoken stand on abortion lands him in trouble with the local community.\", 'Language': 'None, English', 'Country': 'United States', 'Awards': '1 win', 'Poster': 'https://m.media-amazon.com/images/M/MV5BM2UxNTNiYjYtYjZkYy00MzI0LWExZWItZDZhOWEzNWFkZGMzXkEyXkFqcGdeQXVyMTk2MzI2Ng@@._V1_SX300.jpg', 'Ratings': [{'Source': 'Internet Movie Database', 'Value': '6.2/10'}], 'Metascore': 'N/A', 'imdbRating': '6.2', 'imdbVotes': '855', 'imdbID': 'tt0007558', 'Type': 'movie', 'DVD': '25 Feb 2020', 'BoxOffice': 'N/A', 'Production': 'N/A', 'Website': 'N/A', 'Response': 'True'}\n",
            "{'Title': 'Cops', 'Year': '1989–2023', 'Rated': 'TV-14', 'Released': '11 Mar 1989', 'Runtime': '1 min', 'Genre': 'Action, Crime, Reality-TV', 'Director': 'N/A', 'Writer': 'John Langley, Malcolm Barbour', 'Actors': 'Ruben Barela, Andrew Fincher, Alex Cox', 'Plot': 'Camera crews follow police officers while they work.', 'Language': 'English, Spanish, German, Russian', 'Country': 'United States', 'Awards': 'Nominated for 4 Primetime Emmys. 2 wins & 5 nominations total', 'Poster': 'https://m.media-amazon.com/images/M/MV5BYzFmODRmYTMtNjZkMS00ZjdkLThlZjgtMjM1NzEzZTgxM2JmXkEyXkFqcGdeQXVyNDIzMzcwNjc@._V1_SX300.jpg', 'Ratings': [{'Source': 'Internet Movie Database', 'Value': '6.9/10'}], 'Metascore': 'N/A', 'imdbRating': '6.9', 'imdbVotes': '7,075', 'imdbID': 'tt0096563', 'Type': 'series', 'totalSeasons': '33', 'Response': 'True'}\n",
            "{'Title': 'Wild Oranges', 'Year': '1924', 'Rated': 'Passed', 'Released': '20 Jan 1924', 'Runtime': '88 min', 'Genre': 'Drama, Romance', 'Director': 'King Vidor', 'Writer': 'Joseph Hergesheimer, King Vidor, Tom Miranda', 'Actors': 'Frank Mayo, Virginia Valli, Ford Sterling', 'Plot': \"Millie Stope lives with her grandfather on a remote island. Her grandfather fled there for political reasons. But they're not alone. An escaped prisoner, Nicholas, is terrorizing them, and further more, he's interested in Mllie. J...\", 'Language': 'None, English', 'Country': 'United States', 'Awards': '3 wins', 'Poster': 'https://m.media-amazon.com/images/M/MV5BYjE0M2JjZmEtMDc5YS00M2UyLTg5N2YtZWYyYzZmZGE0NTFkXkEyXkFqcGdeQXVyNDY1NzU5NjY@._V1_SX300.jpg', 'Ratings': [{'Source': 'Internet Movie Database', 'Value': '6.7/10'}], 'Metascore': 'N/A', 'imdbRating': '6.7', 'imdbVotes': '563', 'imdbID': 'tt0015498', 'Type': 'movie', 'DVD': 'N/A', 'BoxOffice': 'N/A', 'Production': 'N/A', 'Website': 'N/A', 'Response': 'True'}\n",
            "{'Title': 'Chiamami Salomè', 'Year': '2006', 'Rated': 'N/A', 'Released': '09 May 2008', 'Runtime': '96 min', 'Genre': 'Drama', 'Director': 'Claudio Sestieri', 'Writer': 'Claudio Sestieri', 'Actors': 'Giovanni Agrò, Riccardo Cicogna, Carolina Felline', 'Plot': 'Herod is a Neapolitan boss who runs The Last Emperor, an infamous local, and Herodias is his vicious partner. Salomè is a young, immature and beautiful girl, desired by many men including her stepfather Herod. John is a protester ...', 'Language': 'Italian', 'Country': 'Italy', 'Awards': 'N/A', 'Poster': 'https://m.media-amazon.com/images/M/MV5BNjg3NTUwMTA5MV5BMl5BanBnXkFtZTgwODU3MTQxNTE@._V1_SX300.jpg', 'Ratings': [{'Source': 'Internet Movie Database', 'Value': '5.0/10'}], 'Metascore': 'N/A', 'imdbRating': '5.0', 'imdbVotes': '24', 'imdbID': 'tt0497024', 'Type': 'movie', 'DVD': 'N/A', 'BoxOffice': 'N/A', 'Production': 'N/A', 'Website': 'N/A', 'Response': 'True'}\n",
            "{'Title': 'Black Legion', 'Year': '1937', 'Rated': 'Passed', 'Released': '30 Jan 1937', 'Runtime': '83 min', 'Genre': 'Crime, Drama, Film-Noir', 'Director': 'Archie Mayo, Michael Curtiz', 'Writer': 'Abem Finkel, William Wister Haines, Robert Lord', 'Actors': 'Humphrey Bogart, Ann Sheridan, Dick Foran', 'Plot': \"A hard-working machinist loses a promotion to a Polish-born worker, he's seduced into joining the secretive Black Legion, which intimidates foreigners through violence.\", 'Language': 'English', 'Country': 'United States', 'Awards': 'Nominated for 1 Oscar. 2 wins & 1 nomination total', 'Poster': 'https://m.media-amazon.com/images/M/MV5BZmU5MGQ2M2MtYmRlMy00MDY1LWFiZWQtYTdjOWMxYzdjMWEzXkEyXkFqcGdeQXVyMjUxODE0MDY@._V1_SX300.jpg', 'Ratings': [{'Source': 'Internet Movie Database', 'Value': '6.9/10'}, {'Source': 'Rotten Tomatoes', 'Value': '100%'}], 'Metascore': 'N/A', 'imdbRating': '6.9', 'imdbVotes': '3,891', 'imdbID': 'tt0027367', 'Type': 'movie', 'DVD': '23 May 2016', 'BoxOffice': 'N/A', 'Production': 'N/A', 'Website': 'N/A', 'Response': 'True'}\n",
            "{'Title': 'Strike Up the Band', 'Year': '1940', 'Rated': 'Passed', 'Released': '27 Sep 1940', 'Runtime': '120 min', 'Genre': 'Comedy, Musical, Romance', 'Director': 'Busby Berkeley', 'Writer': 'John Monks Jr., Fred F. Finklehoffe, Herbert Fields', 'Actors': 'Mickey Rooney, Judy Garland, Paul Whiteman', 'Plot': 'A high-school boy wants to become a professional musician, and his gal pal wants to become his best girl. They work together staging big-band shows with fellow classmates in the hopes of hitting it big.', 'Language': 'English', 'Country': 'United States', 'Awards': 'Won 1 Oscar. 1 win & 2 nominations total', 'Poster': 'https://m.media-amazon.com/images/M/MV5BMzQ4YmY0YjctODkyOS00OGEzLTgyZjYtYjU4ZTU1MjlkMDhmXkEyXkFqcGdeQXVyNTE4MzAyNDk@._V1_SX300.jpg', 'Ratings': [{'Source': 'Internet Movie Database', 'Value': '6.8/10'}, {'Source': 'Metacritic', 'Value': '59/100'}], 'Metascore': '59', 'imdbRating': '6.8', 'imdbVotes': '1,894', 'imdbID': 'tt0033110', 'Type': 'movie', 'DVD': '01 Apr 2012', 'BoxOffice': 'N/A', 'Production': 'N/A', 'Website': 'N/A', 'Response': 'True'}\n",
            "{'Title': 'The Magnificent Ambersons', 'Year': '1942', 'Rated': 'Not Rated', 'Released': '10 Jul 1942', 'Runtime': '88 min', 'Genre': 'Drama, Romance', 'Director': 'Orson Welles, Fred Fleck, Robert Wise', 'Writer': 'Booth Tarkington, Orson Welles, Joseph Cotten', 'Actors': 'Tim Holt, Joseph Cotten, Dolores Costello', 'Plot': 'The spoiled young heir to the decaying Amberson fortune comes between his widowed mother and the man she has always loved.', 'Language': 'English', 'Country': 'United States', 'Awards': 'Nominated for 4 Oscars. 4 wins & 4 nominations total', 'Poster': 'https://m.media-amazon.com/images/M/MV5BOTQ4Y2I5MzYtNDJkZS00YTFmLWJkODctMmU3YzQ3ZDhkMWE5XkEyXkFqcGdeQXVyNjc1NTYyMjg@._V1_SX300.jpg', 'Ratings': [{'Source': 'Internet Movie Database', 'Value': '7.6/10'}, {'Source': 'Rotten Tomatoes', 'Value': '89%'}, {'Source': 'Metacritic', 'Value': '93/100'}], 'Metascore': '93', 'imdbRating': '7.6', 'imdbVotes': '26,639', 'imdbID': 'tt0035015', 'Type': 'movie', 'DVD': '01 Apr 2012', 'BoxOffice': 'N/A', 'Production': 'N/A', 'Website': 'N/A', 'Response': 'True'}\n",
            "{'Title': \"The Bells of St. Mary's\", 'Year': '1945', 'Rated': 'Unrated', 'Released': '21 Feb 1946', 'Runtime': '126 min', 'Genre': 'Drama', 'Director': 'Leo McCarey', 'Writer': 'Dudley Nichols, Leo McCarey', 'Actors': 'Bing Crosby, Ingrid Bergman, Henry Travers', 'Plot': \"At a big city Catholic school, Father O'Malley and Sister Benedict indulge in friendly rivalry, and succeed in extending the school through the gift of a building.\", 'Language': 'English, Latin, Swedish', 'Country': 'United States', 'Awards': 'Won 1 Oscar. 6 wins & 8 nominations total', 'Poster': 'https://m.media-amazon.com/images/M/MV5BYWYyZjk5OGEtZTFhNS00OTg0LWJjNWEtYjlkOTQ1MjM1N2ZkXkEyXkFqcGdeQXVyMDI2NDg0NQ@@._V1_SX300.jpg', 'Ratings': [{'Source': 'Internet Movie Database', 'Value': '7.2/10'}, {'Source': 'Rotten Tomatoes', 'Value': '85%'}], 'Metascore': 'N/A', 'imdbRating': '7.2', 'imdbVotes': '9,253', 'imdbID': 'tt0037536', 'Type': 'movie', 'DVD': '09 Aug 2020', 'BoxOffice': '$21,333,333', 'Production': 'N/A', 'Website': 'N/A', 'Response': 'True'}\n",
            "{'Title': 'La nao Capitana', 'Year': '1947', 'Rated': 'N/A', 'Released': '09 Dec 1949', 'Runtime': '87 min', 'Genre': 'Drama', 'Director': 'Florián Rey', 'Writer': 'Ricardo Baroja, Manuel Tamayo', 'Actors': 'Paola Barbara, Manuel Luna, José Nieto', 'Plot': 'The Capitana ship departs from Seville to the West Indies. There travel don Antonio, his wife Estrella and their daughters Leonor and Trinidad. On the high seas a stowaway is discovered, a Moorish in love with Estrella, who, in co...', 'Language': 'Spanish', 'Country': 'Spain', 'Awards': '2 wins', 'Poster': 'https://m.media-amazon.com/images/M/MV5BNTgwZTg3ZWQtY2M1NS00NTY4LThlOTktNGQ1ZTIyN2E2OWQ5L2ltYWdlL2ltYWdlXkEyXkFqcGdeQXVyNTkyMzkxODQ@._V1_SX300.jpg', 'Ratings': [{'Source': 'Internet Movie Database', 'Value': '5.9/10'}], 'Metascore': 'N/A', 'imdbRating': '5.9', 'imdbVotes': '18', 'imdbID': 'tt0039653', 'Type': 'movie', 'DVD': 'N/A', 'BoxOffice': 'N/A', 'Production': 'N/A', 'Website': 'N/A', 'Response': 'True'}\n",
            "{'Title': 'Samson and Delilah', 'Year': '1949', 'Rated': 'Approved', 'Released': '21 Sep 1950', 'Runtime': '134 min', 'Genre': 'Drama, Family, History', 'Director': 'Cecil B. DeMille', 'Writer': 'Jesse Lasky Jr., Fredric M. Frank, Harold Lamb', 'Actors': 'Hedy Lamarr, Victor Mature, George Sanders', 'Plot': 'When strongman Samson rejects the love of the beautiful Philistine woman Delilah, she seeks vengeance that brings horrible consequences they both regret.', 'Language': 'English', 'Country': 'United States', 'Awards': 'Won 2 Oscars. 7 wins & 5 nominations total', 'Poster': 'https://m.media-amazon.com/images/M/MV5BNmE1NTg5OWQtYzcwNi00ZDFkLWJmZjgtNDM3ZjZiODAxYmE2XkEyXkFqcGdeQXVyNjc1NTYyMjg@._V1_SX300.jpg', 'Ratings': [{'Source': 'Internet Movie Database', 'Value': '6.8/10'}, {'Source': 'Rotten Tomatoes', 'Value': '56%'}], 'Metascore': 'N/A', 'imdbRating': '6.8', 'imdbVotes': '8,910', 'imdbID': 'tt0041838', 'Type': 'movie', 'DVD': '01 May 2012', 'BoxOffice': 'N/A', 'Production': 'N/A', 'Website': 'N/A', 'Response': 'True'}\n",
            "{'Title': 'Where Are My Children?', 'Year': '1916', 'Rated': 'Approved', 'Released': '01 May 1916', 'Runtime': '62 min', 'Genre': 'Drama', 'Director': 'Phillips Smalley, Lois Weber', 'Writer': 'Lucy Payton, Franklyn Hall, Lois Weber', 'Actors': 'Tyrone Power Sr., Mrs. Tyrone Power, Marie Walcamp', 'Plot': \"A District Attorney's outspoken stand on abortion lands him in trouble with the local community.\", 'Language': 'None, English', 'Country': 'United States', 'Awards': '1 win', 'Poster': 'https://m.media-amazon.com/images/M/MV5BM2UxNTNiYjYtYjZkYy00MzI0LWExZWItZDZhOWEzNWFkZGMzXkEyXkFqcGdeQXVyMTk2MzI2Ng@@._V1_SX300.jpg', 'Ratings': [{'Source': 'Internet Movie Database', 'Value': '6.2/10'}], 'Metascore': 'N/A', 'imdbRating': '6.2', 'imdbVotes': '855', 'imdbID': 'tt0007558', 'Type': 'movie', 'DVD': '25 Feb 2020', 'BoxOffice': 'N/A', 'Production': 'N/A', 'Website': 'N/A', 'Response': 'True'}\n",
            "{'Title': 'Cops', 'Year': '1989–2023', 'Rated': 'TV-14', 'Released': '11 Mar 1989', 'Runtime': '1 min', 'Genre': 'Action, Crime, Reality-TV', 'Director': 'N/A', 'Writer': 'John Langley, Malcolm Barbour', 'Actors': 'Ruben Barela, Andrew Fincher, Alex Cox', 'Plot': 'Camera crews follow police officers while they work.', 'Language': 'English, Spanish, German, Russian', 'Country': 'United States', 'Awards': 'Nominated for 4 Primetime Emmys. 2 wins & 5 nominations total', 'Poster': 'https://m.media-amazon.com/images/M/MV5BYzFmODRmYTMtNjZkMS00ZjdkLThlZjgtMjM1NzEzZTgxM2JmXkEyXkFqcGdeQXVyNDIzMzcwNjc@._V1_SX300.jpg', 'Ratings': [{'Source': 'Internet Movie Database', 'Value': '6.9/10'}], 'Metascore': 'N/A', 'imdbRating': '6.9', 'imdbVotes': '7,075', 'imdbID': 'tt0096563', 'Type': 'series', 'totalSeasons': '33', 'Response': 'True'}\n",
            "{'Title': 'Wild Oranges', 'Year': '1924', 'Rated': 'Passed', 'Released': '20 Jan 1924', 'Runtime': '88 min', 'Genre': 'Drama, Romance', 'Director': 'King Vidor', 'Writer': 'Joseph Hergesheimer, King Vidor, Tom Miranda', 'Actors': 'Frank Mayo, Virginia Valli, Ford Sterling', 'Plot': \"Millie Stope lives with her grandfather on a remote island. Her grandfather fled there for political reasons. But they're not alone. An escaped prisoner, Nicholas, is terrorizing them, and further more, he's interested in Mllie. J...\", 'Language': 'None, English', 'Country': 'United States', 'Awards': '3 wins', 'Poster': 'https://m.media-amazon.com/images/M/MV5BYjE0M2JjZmEtMDc5YS00M2UyLTg5N2YtZWYyYzZmZGE0NTFkXkEyXkFqcGdeQXVyNDY1NzU5NjY@._V1_SX300.jpg', 'Ratings': [{'Source': 'Internet Movie Database', 'Value': '6.7/10'}], 'Metascore': 'N/A', 'imdbRating': '6.7', 'imdbVotes': '563', 'imdbID': 'tt0015498', 'Type': 'movie', 'DVD': 'N/A', 'BoxOffice': 'N/A', 'Production': 'N/A', 'Website': 'N/A', 'Response': 'True'}\n",
            "{'Title': 'Chiamami Salomè', 'Year': '2006', 'Rated': 'N/A', 'Released': '09 May 2008', 'Runtime': '96 min', 'Genre': 'Drama', 'Director': 'Claudio Sestieri', 'Writer': 'Claudio Sestieri', 'Actors': 'Giovanni Agrò, Riccardo Cicogna, Carolina Felline', 'Plot': 'Herod is a Neapolitan boss who runs The Last Emperor, an infamous local, and Herodias is his vicious partner. Salomè is a young, immature and beautiful girl, desired by many men including her stepfather Herod. John is a protester ...', 'Language': 'Italian', 'Country': 'Italy', 'Awards': 'N/A', 'Poster': 'https://m.media-amazon.com/images/M/MV5BNjg3NTUwMTA5MV5BMl5BanBnXkFtZTgwODU3MTQxNTE@._V1_SX300.jpg', 'Ratings': [{'Source': 'Internet Movie Database', 'Value': '5.0/10'}], 'Metascore': 'N/A', 'imdbRating': '5.0', 'imdbVotes': '24', 'imdbID': 'tt0497024', 'Type': 'movie', 'DVD': 'N/A', 'BoxOffice': 'N/A', 'Production': 'N/A', 'Website': 'N/A', 'Response': 'True'}\n",
            "{'Title': 'Black Legion', 'Year': '1937', 'Rated': 'Passed', 'Released': '30 Jan 1937', 'Runtime': '83 min', 'Genre': 'Crime, Drama, Film-Noir', 'Director': 'Archie Mayo, Michael Curtiz', 'Writer': 'Abem Finkel, William Wister Haines, Robert Lord', 'Actors': 'Humphrey Bogart, Ann Sheridan, Dick Foran', 'Plot': \"A hard-working machinist loses a promotion to a Polish-born worker, he's seduced into joining the secretive Black Legion, which intimidates foreigners through violence.\", 'Language': 'English', 'Country': 'United States', 'Awards': 'Nominated for 1 Oscar. 2 wins & 1 nomination total', 'Poster': 'https://m.media-amazon.com/images/M/MV5BZmU5MGQ2M2MtYmRlMy00MDY1LWFiZWQtYTdjOWMxYzdjMWEzXkEyXkFqcGdeQXVyMjUxODE0MDY@._V1_SX300.jpg', 'Ratings': [{'Source': 'Internet Movie Database', 'Value': '6.9/10'}, {'Source': 'Rotten Tomatoes', 'Value': '100%'}], 'Metascore': 'N/A', 'imdbRating': '6.9', 'imdbVotes': '3,891', 'imdbID': 'tt0027367', 'Type': 'movie', 'DVD': '23 May 2016', 'BoxOffice': 'N/A', 'Production': 'N/A', 'Website': 'N/A', 'Response': 'True'}\n",
            "{'Title': 'Strike Up the Band', 'Year': '1940', 'Rated': 'Passed', 'Released': '27 Sep 1940', 'Runtime': '120 min', 'Genre': 'Comedy, Musical, Romance', 'Director': 'Busby Berkeley', 'Writer': 'John Monks Jr., Fred F. Finklehoffe, Herbert Fields', 'Actors': 'Mickey Rooney, Judy Garland, Paul Whiteman', 'Plot': 'A high-school boy wants to become a professional musician, and his gal pal wants to become his best girl. They work together staging big-band shows with fellow classmates in the hopes of hitting it big.', 'Language': 'English', 'Country': 'United States', 'Awards': 'Won 1 Oscar. 1 win & 2 nominations total', 'Poster': 'https://m.media-amazon.com/images/M/MV5BMzQ4YmY0YjctODkyOS00OGEzLTgyZjYtYjU4ZTU1MjlkMDhmXkEyXkFqcGdeQXVyNTE4MzAyNDk@._V1_SX300.jpg', 'Ratings': [{'Source': 'Internet Movie Database', 'Value': '6.8/10'}, {'Source': 'Metacritic', 'Value': '59/100'}], 'Metascore': '59', 'imdbRating': '6.8', 'imdbVotes': '1,894', 'imdbID': 'tt0033110', 'Type': 'movie', 'DVD': '01 Apr 2012', 'BoxOffice': 'N/A', 'Production': 'N/A', 'Website': 'N/A', 'Response': 'True'}\n",
            "{'Title': 'The Magnificent Ambersons', 'Year': '1942', 'Rated': 'Not Rated', 'Released': '10 Jul 1942', 'Runtime': '88 min', 'Genre': 'Drama, Romance', 'Director': 'Orson Welles, Fred Fleck, Robert Wise', 'Writer': 'Booth Tarkington, Orson Welles, Joseph Cotten', 'Actors': 'Tim Holt, Joseph Cotten, Dolores Costello', 'Plot': 'The spoiled young heir to the decaying Amberson fortune comes between his widowed mother and the man she has always loved.', 'Language': 'English', 'Country': 'United States', 'Awards': 'Nominated for 4 Oscars. 4 wins & 4 nominations total', 'Poster': 'https://m.media-amazon.com/images/M/MV5BOTQ4Y2I5MzYtNDJkZS00YTFmLWJkODctMmU3YzQ3ZDhkMWE5XkEyXkFqcGdeQXVyNjc1NTYyMjg@._V1_SX300.jpg', 'Ratings': [{'Source': 'Internet Movie Database', 'Value': '7.6/10'}, {'Source': 'Rotten Tomatoes', 'Value': '89%'}, {'Source': 'Metacritic', 'Value': '93/100'}], 'Metascore': '93', 'imdbRating': '7.6', 'imdbVotes': '26,639', 'imdbID': 'tt0035015', 'Type': 'movie', 'DVD': '01 Apr 2012', 'BoxOffice': 'N/A', 'Production': 'N/A', 'Website': 'N/A', 'Response': 'True'}\n",
            "{'Title': \"The Bells of St. Mary's\", 'Year': '1945', 'Rated': 'Unrated', 'Released': '21 Feb 1946', 'Runtime': '126 min', 'Genre': 'Drama', 'Director': 'Leo McCarey', 'Writer': 'Dudley Nichols, Leo McCarey', 'Actors': 'Bing Crosby, Ingrid Bergman, Henry Travers', 'Plot': \"At a big city Catholic school, Father O'Malley and Sister Benedict indulge in friendly rivalry, and succeed in extending the school through the gift of a building.\", 'Language': 'English, Latin, Swedish', 'Country': 'United States', 'Awards': 'Won 1 Oscar. 6 wins & 8 nominations total', 'Poster': 'https://m.media-amazon.com/images/M/MV5BYWYyZjk5OGEtZTFhNS00OTg0LWJjNWEtYjlkOTQ1MjM1N2ZkXkEyXkFqcGdeQXVyMDI2NDg0NQ@@._V1_SX300.jpg', 'Ratings': [{'Source': 'Internet Movie Database', 'Value': '7.2/10'}, {'Source': 'Rotten Tomatoes', 'Value': '85%'}], 'Metascore': 'N/A', 'imdbRating': '7.2', 'imdbVotes': '9,253', 'imdbID': 'tt0037536', 'Type': 'movie', 'DVD': '09 Aug 2020', 'BoxOffice': '$21,333,333', 'Production': 'N/A', 'Website': 'N/A', 'Response': 'True'}\n",
            "{'Title': 'La nao Capitana', 'Year': '1947', 'Rated': 'N/A', 'Released': '09 Dec 1949', 'Runtime': '87 min', 'Genre': 'Drama', 'Director': 'Florián Rey', 'Writer': 'Ricardo Baroja, Manuel Tamayo', 'Actors': 'Paola Barbara, Manuel Luna, José Nieto', 'Plot': 'The Capitana ship departs from Seville to the West Indies. There travel don Antonio, his wife Estrella and their daughters Leonor and Trinidad. On the high seas a stowaway is discovered, a Moorish in love with Estrella, who, in co...', 'Language': 'Spanish', 'Country': 'Spain', 'Awards': '2 wins', 'Poster': 'https://m.media-amazon.com/images/M/MV5BNTgwZTg3ZWQtY2M1NS00NTY4LThlOTktNGQ1ZTIyN2E2OWQ5L2ltYWdlL2ltYWdlXkEyXkFqcGdeQXVyNTkyMzkxODQ@._V1_SX300.jpg', 'Ratings': [{'Source': 'Internet Movie Database', 'Value': '5.9/10'}], 'Metascore': 'N/A', 'imdbRating': '5.9', 'imdbVotes': '18', 'imdbID': 'tt0039653', 'Type': 'movie', 'DVD': 'N/A', 'BoxOffice': 'N/A', 'Production': 'N/A', 'Website': 'N/A', 'Response': 'True'}\n",
            "{'Title': 'Samson and Delilah', 'Year': '1949', 'Rated': 'Approved', 'Released': '21 Sep 1950', 'Runtime': '134 min', 'Genre': 'Drama, Family, History', 'Director': 'Cecil B. DeMille', 'Writer': 'Jesse Lasky Jr., Fredric M. Frank, Harold Lamb', 'Actors': 'Hedy Lamarr, Victor Mature, George Sanders', 'Plot': 'When strongman Samson rejects the love of the beautiful Philistine woman Delilah, she seeks vengeance that brings horrible consequences they both regret.', 'Language': 'English', 'Country': 'United States', 'Awards': 'Won 2 Oscars. 7 wins & 5 nominations total', 'Poster': 'https://m.media-amazon.com/images/M/MV5BNmE1NTg5OWQtYzcwNi00ZDFkLWJmZjgtNDM3ZjZiODAxYmE2XkEyXkFqcGdeQXVyNjc1NTYyMjg@._V1_SX300.jpg', 'Ratings': [{'Source': 'Internet Movie Database', 'Value': '6.8/10'}, {'Source': 'Rotten Tomatoes', 'Value': '56%'}], 'Metascore': 'N/A', 'imdbRating': '6.8', 'imdbVotes': '8,910', 'imdbID': 'tt0041838', 'Type': 'movie', 'DVD': '01 May 2012', 'BoxOffice': 'N/A', 'Production': 'N/A', 'Website': 'N/A', 'Response': 'True'}\n"
          ]
        }
      ]
    },
    {
      "cell_type": "code",
      "source": [
        "#Connecting to the SQLite Database\n",
        "conn = sqlite3.connect('movies_and_shows.db')\n",
        "\n",
        "#Creating a cursor to execute SQL commands\n",
        "cursor = conn.cursor()\n",
        "\n",
        "#Looping thorugh each row in the movie_ratings DataFrame to insert movie rating data into the MovieRatings table\n",
        "for index,row in movie_ratings.iterrows():\n",
        "\n",
        "    #Getting the movie id from the Movies table that corresponds to the title\n",
        "    cursor.execute(\"SELECT id FROM Movies WHERE title = ?\", (row['Title'],))\n",
        "    movie_id = cursor.fetchone()\n",
        "\n",
        "    #Checking if the movie_id exists\n",
        "    if movie_id:\n",
        "        movie_id = movie_id[0]\n",
        "        cursor.execute('''INSERT INTO MovieRatings (movie_id, title, imdb_id, imdb_rating, imdb_votes)\n",
        "                          VALUES (?, ?, ?, ?, ?)''', (\n",
        "                              movie_id,\n",
        "                              row['Title'],\n",
        "                              row['imdbID'],\n",
        "                              row['imdbRating'],\n",
        "                              row['imdbVotes'],\n",
        "                      ))\n",
        "\n",
        "#Committing changes to the Database\n",
        "conn.commit()\n",
        "\n",
        "#Closing the connection to the Database\n",
        "conn.close()"
      ],
      "metadata": {
        "id": "4uNILT7osy1F"
      },
      "execution_count": 246,
      "outputs": []
    },
    {
      "cell_type": "code",
      "source": [
        "#Connecting to the SQLite Database\n",
        "conn = sqlite3.connect('movies_and_shows.db')\n",
        "\n",
        "#Creating a cursor to execute SQL commands\n",
        "cursor = conn.cursor()\n",
        "\n",
        "#Looping thorugh each row in the show_ratings DataFrame to insert show rating data into the ShowRatings table\n",
        "for index,row in show_ratings.iterrows():\n",
        "\n",
        "    #Getting the show id from the Shows table that corresponds to the title\n",
        "    cursor.execute(\"SELECT id FROM Shows WHERE title = ?\", (row['Title'],))\n",
        "    show_id = cursor.fetchone()\n",
        "\n",
        "    # Check if the show_id exists\n",
        "    if show_id:\n",
        "        show_id = show_id[0]\n",
        "        cursor.execute('''INSERT INTO ShowRatings (show_id, title, imdb_id, imdb_rating, imdb_votes)\n",
        "                          VALUES (?, ?, ?, ?, ?)''', (\n",
        "                              show_id,\n",
        "                              row['Title'],\n",
        "                              row['imdbID'],\n",
        "                              row['imdbRating'],\n",
        "                              row['imdbVotes'],\n",
        "                      ))\n",
        "\n",
        "#Committing changes to the Database\n",
        "conn.commit()\n",
        "\n",
        "#Closing the connection to the Database\n",
        "conn.close()"
      ],
      "metadata": {
        "id": "iiQOjChvosV2"
      },
      "execution_count": 247,
      "outputs": []
    },
    {
      "cell_type": "code",
      "source": [
        "#Connecting to the SQLite Database\n",
        "conn = sqlite3.connect('movies_and_shows.db')\n",
        "\n",
        "#Querrying the data from the MovieRatings table to convert it to a DataFrame (asked chat how to do this)\n",
        "query = f\"SELECT * FROM MovieRatings\"\n",
        "data = pd.read_sql_query(query, conn)\n",
        "\n",
        "#Closing the connection to the Database\n",
        "conn.close()\n",
        "\n",
        "#Exporting the DataFrame to a CSV file\n",
        "data.to_csv('movies_ratings_table.csv', index=False)"
      ],
      "metadata": {
        "id": "QJ3GJ-9Fs4yo"
      },
      "execution_count": 248,
      "outputs": []
    },
    {
      "cell_type": "code",
      "source": [
        "#Connecting to the SQLite Database\n",
        "conn = sqlite3.connect('movies_and_shows.db')\n",
        "\n",
        "#Querrying the data from the ShowRatings table to convert it to a DataFrame (asked chat how to do this)\n",
        "query = f\"SELECT * FROM ShowRatings\"\n",
        "data = pd.read_sql_query(query, conn)\n",
        "\n",
        "#Closing the connection to the Database\n",
        "conn.close()\n",
        "\n",
        "#Exporting the DataFrame to a CSV file\n",
        "data.to_csv('show_ratings_table.csv', index=False)"
      ],
      "metadata": {
        "id": "ScBigVAmo39n"
      },
      "execution_count": 249,
      "outputs": []
    },
    {
      "cell_type": "code",
      "source": [
        "# Connecting to the SQLite Database\n",
        "conn = sqlite3.connect('movies_and_shows.db')\n",
        "\n",
        "# Creating a cursor to execute SQL commands\n",
        "cursor = conn.cursor()\n",
        "\n",
        "# Looping through each row in the combined_data DataFrame to store data in the dictionary\n",
        "for index, row in movie_ratings.iterrows():\n",
        "    title = row['Title']\n",
        "\n",
        "    # Splitting the genres into a list\n",
        "    genres = row['Genre']\n",
        "    if isinstance(genres, str):\n",
        "        genres = genres.split(', ')\n",
        "    else:\n",
        "        genres = []\n",
        "\n",
        "    # Finding the movie id from the Movies table that match the title\n",
        "    cursor.execute(\"SELECT id FROM Movies WHERE title = ?\", (title,))\n",
        "    movie_id = cursor.fetchone()\n",
        "\n",
        "    # Checking if movie_id is valid values\n",
        "    if movie_id:\n",
        "        movie_id = movie_id[0]\n",
        "    else:\n",
        "        movie_id = None\n",
        "\n",
        "    # Looping through the genres to update the dictionary to show the movie titles and ids based on the genre\n",
        "    for genre in genres:\n",
        "        if movie_id:\n",
        "            cursor.execute('''INSERT INTO MovieGenres (genre, movie_id, movie_title)\n",
        "                              VALUES (?, ?, ?)''', (\n",
        "                                  genre,\n",
        "                                  movie_id,\n",
        "                                  title,\n",
        "                          ))\n",
        "\n",
        "# Committing changes to the Database\n",
        "conn.commit()\n",
        "\n",
        "# Closing the connection to the Database\n",
        "conn.close()"
      ],
      "metadata": {
        "id": "aCvINR1rRuVA"
      },
      "execution_count": 250,
      "outputs": []
    },
    {
      "cell_type": "code",
      "source": [
        "#Connecting to the SQLite Database\n",
        "conn = sqlite3.connect('movies_and_shows.db')\n",
        "\n",
        "#Querrying the data from the ShowRatings table to convert it to a DataFrame (asked chat how to do this)\n",
        "query = f\"SELECT * FROM MovieGenres\"\n",
        "data = pd.read_sql_query(query, conn)\n",
        "\n",
        "#Closing the connection to the Database\n",
        "conn.close()\n",
        "\n",
        "#Exporting the DataFrame to a CSV file\n",
        "data.to_csv('movie_genres_table.csv', index=False)"
      ],
      "metadata": {
        "id": "QQWaEpSS4dHl"
      },
      "execution_count": 251,
      "outputs": []
    },
    {
      "cell_type": "code",
      "source": [
        "!pip install pyMysql"
      ],
      "metadata": {
        "colab": {
          "base_uri": "https://localhost:8080/"
        },
        "id": "NYxQ90_FpFW6",
        "outputId": "e56c444c-e169-4f66-93c7-ff3cda4dfe44"
      },
      "execution_count": 252,
      "outputs": [
        {
          "output_type": "stream",
          "name": "stdout",
          "text": [
            "Requirement already satisfied: pyMysql in /usr/local/lib/python3.10/dist-packages (1.1.0)\n"
          ]
        }
      ]
    },
    {
      "cell_type": "code",
      "source": [
        "import pymysql\n",
        "import warnings\n",
        "\n",
        "warnings.filterwarnings('ignore')\n",
        "\n",
        "#MySQL Database connection parameters\n",
        "host = \"datatbase.ds2002.org\"\n",
        "user = 'cdw3pe'\n",
        "pwd = \"cdw3pe!\"\n",
        "db_name = \"cdw3pe\"\n",
        "\n",
        "#Connecting to the MySQL Database\n",
        "conn = pymysql.connect(host=host, user=user, password=pwd, database=db_name)\n",
        "\n",
        "#Creating a cursor to execute SQL commands\n",
        "cursor = conn.cursor()\n",
        "\n",
        "#Selecting the genre to find the average IMDb rating and the count of movies for each genre\n",
        "sql_query = \"\"\"\n",
        "SELECT movie_genre.genre, AVG(movie_rating.imdb_rating) AS avg_rating, COUNT(movie.id) AS movie_count\n",
        "FROM MovieGenres movie_genre\n",
        "JOIN Movies movie ON movie_genre.movie_id = movie.id\n",
        "JOIN MovieRatings movie_rating ON movie.id = movie_rating.movie_id\n",
        "GROUP BY movie_genre.genre;\n",
        "\"\"\"\n",
        "\n",
        "#Executing and storing the SQL query\n",
        "cursor.execute(sql_query)\n",
        "results = cursor.fetchall()\n",
        "\n",
        "#Printing the results from the SQL query\n",
        "for row in results:\n",
        "    genre = row[0]\n",
        "    avg_rating = row[1]\n",
        "    movie_count = row[2]\n",
        "    print(f\"Genre: {genre}, Average Rating: {avg_rating}, Movie Count: {movie_count}\")\n",
        "\n",
        "#Closing the cursor and connection\n",
        "conn.close()"
      ],
      "metadata": {
        "colab": {
          "base_uri": "https://localhost:8080/"
        },
        "id": "vazot-lXpqUb",
        "outputId": "9a27e480-8a68-42cd-bb51-b6f9ee183841"
      },
      "execution_count": 253,
      "outputs": [
        {
          "output_type": "stream",
          "name": "stdout",
          "text": [
            "Genre: Drama, Average Rating: 6.9, Movie Count: 5\n",
            "Genre: Action, Average Rating: 6.9, Movie Count: 1\n",
            "Genre: Crime, Average Rating: 6.9, Movie Count: 1\n",
            "Genre: Reality-TV, Average Rating: 6.9, Movie Count: 1\n",
            "Genre: Romance, Average Rating: 7.033333333333334, Movie Count: 3\n",
            "Genre: Comedy, Average Rating: 6.8, Movie Count: 1\n",
            "Genre: Musical, Average Rating: 6.8, Movie Count: 1\n",
            "Genre: Family, Average Rating: 6.8, Movie Count: 1\n",
            "Genre: History, Average Rating: 6.8, Movie Count: 1\n"
          ]
        }
      ]
    }
  ]
}